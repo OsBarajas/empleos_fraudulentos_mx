{
 "cells": [
  {
   "cell_type": "code",
   "execution_count": 2,
   "metadata": {},
   "outputs": [],
   "source": [
    "import pandas as pd\n",
    "import seaborn as sns\n",
    "import matplotlib.pyplot as plt\n",
    "%matplotlib inline\n",
    "import numpy as np\n",
    "pd.set_option('display.max_columns', None)\n",
    "\n",
    "import nltk\n",
    "from nltk.corpus import stopwords \n",
    "stop_words = stopwords.words('spanish')\n",
    "from nltk.stem import WordNetLemmatizer\n",
    "import string \n",
    "\n",
    "\n",
    "import base64\n",
    "import re\n",
    "from collections import Counter \n",
    "\n",
    "\n",
    "from sklearn.feature_extraction.text import CountVectorizer\n",
    "from sklearn.base import TransformerMixin\n",
    "from sklearn.pipeline import Pipeline\n",
    "from sklearn.svm import LinearSVC\n",
    "import sklearn.feature_extraction.stop_words\n",
    "from sklearn.metrics import accuracy_score, roc_auc_score, classification_report, confusion_matrix\n",
    "import spacy\n",
    "spacy.load('es_core_news_sm')\n",
    "from spacy.lang.es import Spanish\n",
    "parser = Spanish()\n"
   ]
  },
  {
   "cell_type": "markdown",
   "metadata": {},
   "source": [
    "#### Limpieza primaria del dataset"
   ]
  },
  {
   "cell_type": "code",
   "execution_count": 4,
   "metadata": {},
   "outputs": [
    {
     "data": {
      "text/html": [
       "<div>\n",
       "<style scoped>\n",
       "    .dataframe tbody tr th:only-of-type {\n",
       "        vertical-align: middle;\n",
       "    }\n",
       "\n",
       "    .dataframe tbody tr th {\n",
       "        vertical-align: top;\n",
       "    }\n",
       "\n",
       "    .dataframe thead th {\n",
       "        text-align: right;\n",
       "    }\n",
       "</style>\n",
       "<table border=\"1\" class=\"dataframe\">\n",
       "  <thead>\n",
       "    <tr style=\"text-align: right;\">\n",
       "      <th></th>\n",
       "      <th>Unnamed: 0</th>\n",
       "      <th>Título</th>\n",
       "      <th>Descripción</th>\n",
       "      <th>Teletrabajo</th>\n",
       "      <th>Logo_empresa</th>\n",
       "      <th>Preguntas</th>\n",
       "      <th>Tipo_empleo</th>\n",
       "      <th>Experiencia</th>\n",
       "      <th>Educación</th>\n",
       "      <th>Sector</th>\n",
       "      <th>Funciones</th>\n",
       "      <th>fraudulento</th>\n",
       "      <th>FV</th>\n",
       "      <th>Ciudad</th>\n",
       "      <th>Estado</th>\n",
       "      <th>latitud</th>\n",
       "      <th>longitud</th>\n",
       "    </tr>\n",
       "  </thead>\n",
       "  <tbody>\n",
       "    <tr>\n",
       "      <td>0</td>\n",
       "      <td>0</td>\n",
       "      <td>(Pasantía) Asistente de Comunicación / E-Marke...</td>\n",
       "      <td>Nacido en 2013, # URL_1126a42ca4e3346cc3e1a08f...</td>\n",
       "      <td>0 0</td>\n",
       "      <td>1</td>\n",
       "      <td>1</td>\n",
       "      <td>Tiempo completo</td>\n",
       "      <td>Internado</td>\n",
       "      <td>Sin especificar</td>\n",
       "      <td>Internet</td>\n",
       "      <td>Márketing</td>\n",
       "      <td>0 0</td>\n",
       "      <td>Es_Real</td>\n",
       "      <td>Cancún Quintana Roo</td>\n",
       "      <td>Quintana Roo</td>\n",
       "      <td>21.161908</td>\n",
       "      <td>-86.851528</td>\n",
       "    </tr>\n",
       "    <tr>\n",
       "      <td>1</td>\n",
       "      <td>1</td>\n",
       "      <td>(Senior) Desarrollador Producto en la nube (m ...</td>\n",
       "      <td>Somos una empresa de Internet de rápido crecim...</td>\n",
       "      <td>0 0</td>\n",
       "      <td>1</td>\n",
       "      <td>1</td>\n",
       "      <td>Tiempo completo</td>\n",
       "      <td>Asociar</td>\n",
       "      <td>Licenciatura</td>\n",
       "      <td>Hospitalidad</td>\n",
       "      <td>Tecnologías de la información</td>\n",
       "      <td>0 0</td>\n",
       "      <td>Es_Real</td>\n",
       "      <td>Mexicali Baja California</td>\n",
       "      <td>Baja California</td>\n",
       "      <td>32.624539</td>\n",
       "      <td>-115.452262</td>\n",
       "    </tr>\n",
       "  </tbody>\n",
       "</table>\n",
       "</div>"
      ],
      "text/plain": [
       "   Unnamed: 0                                             Título  \\\n",
       "0           0  (Pasantía) Asistente de Comunicación / E-Marke...   \n",
       "1           1  (Senior) Desarrollador Producto en la nube (m ...   \n",
       "\n",
       "                                         Descripción Teletrabajo Logo_empresa  \\\n",
       "0  Nacido en 2013, # URL_1126a42ca4e3346cc3e1a08f...         0 0            1   \n",
       "1  Somos una empresa de Internet de rápido crecim...         0 0            1   \n",
       "\n",
       "  Preguntas      Tipo_empleo Experiencia        Educación        Sector  \\\n",
       "0         1  Tiempo completo   Internado  Sin especificar      Internet   \n",
       "1         1  Tiempo completo     Asociar     Licenciatura  Hospitalidad   \n",
       "\n",
       "                       Funciones fraudulento       FV  \\\n",
       "0                      Márketing         0 0  Es_Real   \n",
       "1  Tecnologías de la información         0 0  Es_Real   \n",
       "\n",
       "                     Ciudad           Estado    latitud    longitud  \n",
       "0       Cancún Quintana Roo     Quintana Roo  21.161908  -86.851528  \n",
       "1  Mexicali Baja California  Baja California  32.624539 -115.452262  "
      ]
     },
     "execution_count": 4,
     "metadata": {},
     "output_type": "execute_result"
    }
   ],
   "source": [
    "df = pd.read_csv('geografia_empleos_MX.csv')\n",
    "df.head(2)"
   ]
  },
  {
   "cell_type": "code",
   "execution_count": 5,
   "metadata": {},
   "outputs": [
    {
     "data": {
      "text/html": [
       "<div>\n",
       "<style scoped>\n",
       "    .dataframe tbody tr th:only-of-type {\n",
       "        vertical-align: middle;\n",
       "    }\n",
       "\n",
       "    .dataframe tbody tr th {\n",
       "        vertical-align: top;\n",
       "    }\n",
       "\n",
       "    .dataframe thead th {\n",
       "        text-align: right;\n",
       "    }\n",
       "</style>\n",
       "<table border=\"1\" class=\"dataframe\">\n",
       "  <thead>\n",
       "    <tr style=\"text-align: right;\">\n",
       "      <th></th>\n",
       "      <th>Título</th>\n",
       "      <th>Descripción</th>\n",
       "      <th>Teletrabajo</th>\n",
       "      <th>Logo_empresa</th>\n",
       "      <th>Preguntas</th>\n",
       "      <th>Tipo_empleo</th>\n",
       "      <th>Experiencia</th>\n",
       "      <th>Educación</th>\n",
       "      <th>Sector</th>\n",
       "      <th>Funciones</th>\n",
       "      <th>fraudulento</th>\n",
       "      <th>FV</th>\n",
       "      <th>Ciudad</th>\n",
       "      <th>Estado</th>\n",
       "      <th>latitud</th>\n",
       "      <th>longitud</th>\n",
       "    </tr>\n",
       "  </thead>\n",
       "  <tbody>\n",
       "    <tr>\n",
       "      <td>0</td>\n",
       "      <td>(Pasantía) Asistente de Comunicación / E-Marke...</td>\n",
       "      <td>Nacido en 2013, # URL_1126a42ca4e3346cc3e1a08f...</td>\n",
       "      <td>0 0</td>\n",
       "      <td>1</td>\n",
       "      <td>1</td>\n",
       "      <td>Tiempo completo</td>\n",
       "      <td>Internado</td>\n",
       "      <td>Sin especificar</td>\n",
       "      <td>Internet</td>\n",
       "      <td>Márketing</td>\n",
       "      <td>0 0</td>\n",
       "      <td>Es_Real</td>\n",
       "      <td>Cancún Quintana Roo</td>\n",
       "      <td>Quintana Roo</td>\n",
       "      <td>21.161908</td>\n",
       "      <td>-86.851528</td>\n",
       "    </tr>\n",
       "    <tr>\n",
       "      <td>1</td>\n",
       "      <td>(Senior) Desarrollador Producto en la nube (m ...</td>\n",
       "      <td>Somos una empresa de Internet de rápido crecim...</td>\n",
       "      <td>0 0</td>\n",
       "      <td>1</td>\n",
       "      <td>1</td>\n",
       "      <td>Tiempo completo</td>\n",
       "      <td>Asociar</td>\n",
       "      <td>Licenciatura</td>\n",
       "      <td>Hospitalidad</td>\n",
       "      <td>Tecnologías de la información</td>\n",
       "      <td>0 0</td>\n",
       "      <td>Es_Real</td>\n",
       "      <td>Mexicali Baja California</td>\n",
       "      <td>Baja California</td>\n",
       "      <td>32.624539</td>\n",
       "      <td>-115.452262</td>\n",
       "    </tr>\n",
       "    <tr>\n",
       "      <td>2</td>\n",
       "      <td>.Desarrollador de redes</td>\n",
       "      <td>Este es un trabajo para alguien que quiere for...</td>\n",
       "      <td>0 0</td>\n",
       "      <td>1</td>\n",
       "      <td>0 0</td>\n",
       "      <td>Tiempo completo</td>\n",
       "      <td>Nivel medio superior</td>\n",
       "      <td>Sin especificar</td>\n",
       "      <td>Software de ordenador</td>\n",
       "      <td>Tecnologías de la información</td>\n",
       "      <td>0 0</td>\n",
       "      <td>Es_Real</td>\n",
       "      <td>Zapopan Jalisco</td>\n",
       "      <td>Jalisco</td>\n",
       "      <td>20.671956</td>\n",
       "      <td>-103.416501</td>\n",
       "    </tr>\n",
       "    <tr>\n",
       "      <td>3</td>\n",
       "      <td>.Desarrollador de redes</td>\n",
       "      <td>Quiénes somos Aya Healthcare es una organizaci...</td>\n",
       "      <td>0 0</td>\n",
       "      <td>1</td>\n",
       "      <td>0 0</td>\n",
       "      <td>Tiempo completo</td>\n",
       "      <td>No aplica</td>\n",
       "      <td>Sin especificar</td>\n",
       "      <td>Tecnología de la Información y Servicios</td>\n",
       "      <td>Consultante</td>\n",
       "      <td>0 0</td>\n",
       "      <td>Es_Real</td>\n",
       "      <td>Guanajuato Guanajuato</td>\n",
       "      <td>Guanajuato</td>\n",
       "      <td>21.019014</td>\n",
       "      <td>-101.257359</td>\n",
       "    </tr>\n",
       "    <tr>\n",
       "      <td>4</td>\n",
       "      <td>.Net Developer - Nuevo producto al mercado</td>\n",
       "      <td>Por segundo año consecutivo, nuestros tecnólog...</td>\n",
       "      <td>0 0</td>\n",
       "      <td>1</td>\n",
       "      <td>0 0</td>\n",
       "      <td>Tiempo completo</td>\n",
       "      <td>Asociar</td>\n",
       "      <td>Sin especificar</td>\n",
       "      <td>Tecnología de la Información y Servicios</td>\n",
       "      <td>Tecnologías de la información</td>\n",
       "      <td>0 0</td>\n",
       "      <td>Es_Real</td>\n",
       "      <td>Nezahualcóyotl Estado de México</td>\n",
       "      <td>Edomex</td>\n",
       "      <td>19.399493</td>\n",
       "      <td>-98.989664</td>\n",
       "    </tr>\n",
       "  </tbody>\n",
       "</table>\n",
       "</div>"
      ],
      "text/plain": [
       "                                              Título  \\\n",
       "0  (Pasantía) Asistente de Comunicación / E-Marke...   \n",
       "1  (Senior) Desarrollador Producto en la nube (m ...   \n",
       "2                            .Desarrollador de redes   \n",
       "3                            .Desarrollador de redes   \n",
       "4         .Net Developer - Nuevo producto al mercado   \n",
       "\n",
       "                                         Descripción Teletrabajo Logo_empresa  \\\n",
       "0  Nacido en 2013, # URL_1126a42ca4e3346cc3e1a08f...         0 0            1   \n",
       "1  Somos una empresa de Internet de rápido crecim...         0 0            1   \n",
       "2  Este es un trabajo para alguien que quiere for...         0 0            1   \n",
       "3  Quiénes somos Aya Healthcare es una organizaci...         0 0            1   \n",
       "4  Por segundo año consecutivo, nuestros tecnólog...         0 0            1   \n",
       "\n",
       "  Preguntas      Tipo_empleo           Experiencia        Educación  \\\n",
       "0         1  Tiempo completo             Internado  Sin especificar   \n",
       "1         1  Tiempo completo               Asociar     Licenciatura   \n",
       "2       0 0  Tiempo completo  Nivel medio superior  Sin especificar   \n",
       "3       0 0  Tiempo completo             No aplica  Sin especificar   \n",
       "4       0 0  Tiempo completo               Asociar  Sin especificar   \n",
       "\n",
       "                                     Sector                      Funciones  \\\n",
       "0                                  Internet                      Márketing   \n",
       "1                              Hospitalidad  Tecnologías de la información   \n",
       "2                     Software de ordenador  Tecnologías de la información   \n",
       "3  Tecnología de la Información y Servicios                    Consultante   \n",
       "4  Tecnología de la Información y Servicios  Tecnologías de la información   \n",
       "\n",
       "  fraudulento       FV                           Ciudad           Estado  \\\n",
       "0         0 0  Es_Real              Cancún Quintana Roo     Quintana Roo   \n",
       "1         0 0  Es_Real         Mexicali Baja California  Baja California   \n",
       "2         0 0  Es_Real                  Zapopan Jalisco          Jalisco   \n",
       "3         0 0  Es_Real            Guanajuato Guanajuato       Guanajuato   \n",
       "4         0 0  Es_Real  Nezahualcóyotl Estado de México           Edomex   \n",
       "\n",
       "     latitud    longitud  \n",
       "0  21.161908  -86.851528  \n",
       "1  32.624539 -115.452262  \n",
       "2  20.671956 -103.416501  \n",
       "3  21.019014 -101.257359  \n",
       "4  19.399493  -98.989664  "
      ]
     },
     "execution_count": 5,
     "metadata": {},
     "output_type": "execute_result"
    }
   ],
   "source": [
    "del df['Unnamed: 0']\n",
    "df.head(5)"
   ]
  },
  {
   "cell_type": "code",
   "execution_count": 6,
   "metadata": {},
   "outputs": [
    {
     "data": {
      "text/plain": [
       "Título          0\n",
       "Descripción     0\n",
       "Teletrabajo     0\n",
       "Logo_empresa    0\n",
       "Preguntas       0\n",
       "Tipo_empleo     0\n",
       "Experiencia     0\n",
       "Educación       0\n",
       "Sector          0\n",
       "Funciones       0\n",
       "fraudulento     0\n",
       "FV              0\n",
       "Ciudad          0\n",
       "Estado          0\n",
       "latitud         0\n",
       "longitud        0\n",
       "dtype: int64"
      ]
     },
     "execution_count": 6,
     "metadata": {},
     "output_type": "execute_result"
    }
   ],
   "source": [
    "df.isnull().sum()"
   ]
  },
  {
   "cell_type": "code",
   "execution_count": 7,
   "metadata": {},
   "outputs": [
    {
     "data": {
      "text/plain": [
       "(4371, 16)"
      ]
     },
     "execution_count": 7,
     "metadata": {},
     "output_type": "execute_result"
    }
   ],
   "source": [
    "df.shape"
   ]
  },
  {
   "cell_type": "code",
   "execution_count": 8,
   "metadata": {},
   "outputs": [],
   "source": [
    "df1 = df.copy()"
   ]
  },
  {
   "cell_type": "code",
   "execution_count": 9,
   "metadata": {},
   "outputs": [
    {
     "data": {
      "text/html": [
       "<div>\n",
       "<style scoped>\n",
       "    .dataframe tbody tr th:only-of-type {\n",
       "        vertical-align: middle;\n",
       "    }\n",
       "\n",
       "    .dataframe tbody tr th {\n",
       "        vertical-align: top;\n",
       "    }\n",
       "\n",
       "    .dataframe thead th {\n",
       "        text-align: right;\n",
       "    }\n",
       "</style>\n",
       "<table border=\"1\" class=\"dataframe\">\n",
       "  <thead>\n",
       "    <tr style=\"text-align: right;\">\n",
       "      <th></th>\n",
       "      <th>Título</th>\n",
       "      <th>Descripción</th>\n",
       "      <th>Teletrabajo</th>\n",
       "      <th>Logo_empresa</th>\n",
       "      <th>Preguntas</th>\n",
       "      <th>Tipo_empleo</th>\n",
       "      <th>Experiencia</th>\n",
       "      <th>Educación</th>\n",
       "      <th>Sector</th>\n",
       "      <th>Funciones</th>\n",
       "      <th>fraudulento</th>\n",
       "      <th>FV</th>\n",
       "      <th>Ciudad</th>\n",
       "      <th>Estado</th>\n",
       "      <th>latitud</th>\n",
       "      <th>longitud</th>\n",
       "    </tr>\n",
       "  </thead>\n",
       "  <tbody>\n",
       "    <tr>\n",
       "      <td>0</td>\n",
       "      <td>(Pasantía) Asistente de Comunicación / E-Marke...</td>\n",
       "      <td>Nacido en 2013, # URL_1126a42ca4e3346cc3e1a08f...</td>\n",
       "      <td>0</td>\n",
       "      <td>1</td>\n",
       "      <td>1</td>\n",
       "      <td>Tiempo completo</td>\n",
       "      <td>Internado</td>\n",
       "      <td>Sin especificar</td>\n",
       "      <td>Internet</td>\n",
       "      <td>Márketing</td>\n",
       "      <td>0</td>\n",
       "      <td>Es_Real</td>\n",
       "      <td>Cancún Quintana Roo</td>\n",
       "      <td>Quintana Roo</td>\n",
       "      <td>21.161908</td>\n",
       "      <td>-86.851528</td>\n",
       "    </tr>\n",
       "    <tr>\n",
       "      <td>1</td>\n",
       "      <td>(Senior) Desarrollador Producto en la nube (m ...</td>\n",
       "      <td>Somos una empresa de Internet de rápido crecim...</td>\n",
       "      <td>0</td>\n",
       "      <td>1</td>\n",
       "      <td>1</td>\n",
       "      <td>Tiempo completo</td>\n",
       "      <td>Asociar</td>\n",
       "      <td>Licenciatura</td>\n",
       "      <td>Hospitalidad</td>\n",
       "      <td>Tecnologías de la información</td>\n",
       "      <td>0</td>\n",
       "      <td>Es_Real</td>\n",
       "      <td>Mexicali Baja California</td>\n",
       "      <td>Baja California</td>\n",
       "      <td>32.624539</td>\n",
       "      <td>-115.452262</td>\n",
       "    </tr>\n",
       "    <tr>\n",
       "      <td>2</td>\n",
       "      <td>.Desarrollador de redes</td>\n",
       "      <td>Este es un trabajo para alguien que quiere for...</td>\n",
       "      <td>0</td>\n",
       "      <td>1</td>\n",
       "      <td>0</td>\n",
       "      <td>Tiempo completo</td>\n",
       "      <td>Nivel medio superior</td>\n",
       "      <td>Sin especificar</td>\n",
       "      <td>Software de ordenador</td>\n",
       "      <td>Tecnologías de la información</td>\n",
       "      <td>0</td>\n",
       "      <td>Es_Real</td>\n",
       "      <td>Zapopan Jalisco</td>\n",
       "      <td>Jalisco</td>\n",
       "      <td>20.671956</td>\n",
       "      <td>-103.416501</td>\n",
       "    </tr>\n",
       "    <tr>\n",
       "      <td>3</td>\n",
       "      <td>.Desarrollador de redes</td>\n",
       "      <td>Quiénes somos Aya Healthcare es una organizaci...</td>\n",
       "      <td>0</td>\n",
       "      <td>1</td>\n",
       "      <td>0</td>\n",
       "      <td>Tiempo completo</td>\n",
       "      <td>No aplica</td>\n",
       "      <td>Sin especificar</td>\n",
       "      <td>Tecnología de la Información y Servicios</td>\n",
       "      <td>Consultante</td>\n",
       "      <td>0</td>\n",
       "      <td>Es_Real</td>\n",
       "      <td>Guanajuato Guanajuato</td>\n",
       "      <td>Guanajuato</td>\n",
       "      <td>21.019014</td>\n",
       "      <td>-101.257359</td>\n",
       "    </tr>\n",
       "    <tr>\n",
       "      <td>4</td>\n",
       "      <td>.Net Developer - Nuevo producto al mercado</td>\n",
       "      <td>Por segundo año consecutivo, nuestros tecnólog...</td>\n",
       "      <td>0</td>\n",
       "      <td>1</td>\n",
       "      <td>0</td>\n",
       "      <td>Tiempo completo</td>\n",
       "      <td>Asociar</td>\n",
       "      <td>Sin especificar</td>\n",
       "      <td>Tecnología de la Información y Servicios</td>\n",
       "      <td>Tecnologías de la información</td>\n",
       "      <td>0</td>\n",
       "      <td>Es_Real</td>\n",
       "      <td>Nezahualcóyotl Estado de México</td>\n",
       "      <td>Edomex</td>\n",
       "      <td>19.399493</td>\n",
       "      <td>-98.989664</td>\n",
       "    </tr>\n",
       "    <tr>\n",
       "      <td>5</td>\n",
       "      <td>1099 Ventas médicas de contrato independiente</td>\n",
       "      <td>Ahora tenemos un producto único que cualquier ...</td>\n",
       "      <td>0</td>\n",
       "      <td>1</td>\n",
       "      <td>1</td>\n",
       "      <td>Otro</td>\n",
       "      <td>Asociar</td>\n",
       "      <td>Licenciatura</td>\n",
       "      <td>Práctica médica</td>\n",
       "      <td>Ventas</td>\n",
       "      <td>0</td>\n",
       "      <td>Es_Real</td>\n",
       "      <td>Irapuato Guanajuato</td>\n",
       "      <td>Guanajuato</td>\n",
       "      <td>20.678665</td>\n",
       "      <td>-101.354496</td>\n",
       "    </tr>\n",
       "    <tr>\n",
       "      <td>6</td>\n",
       "      <td>2 cuidadores de tiempo completo para una mujer...</td>\n",
       "      <td>¿Estás buscando un trabajo de cuidado que sea ...</td>\n",
       "      <td>0</td>\n",
       "      <td>1</td>\n",
       "      <td>1</td>\n",
       "      <td>Tiempo completo</td>\n",
       "      <td>Nivel Básico</td>\n",
       "      <td>Educación Secundaria o equivalente</td>\n",
       "      <td>Servicios financieros</td>\n",
       "      <td>Proveedor de atención sanitaria</td>\n",
       "      <td>0</td>\n",
       "      <td>Es_Real</td>\n",
       "      <td>Querétaro Querétaro</td>\n",
       "      <td>Queretaro</td>\n",
       "      <td>20.588793</td>\n",
       "      <td>-100.389888</td>\n",
       "    </tr>\n",
       "    <tr>\n",
       "      <td>7</td>\n",
       "      <td>2015 MBA Internship - Asesoría y Consultoría</td>\n",
       "      <td>El grupo de Asesoría y Consultoría de Green St...</td>\n",
       "      <td>0</td>\n",
       "      <td>1</td>\n",
       "      <td>1</td>\n",
       "      <td>Tiempo completo</td>\n",
       "      <td>Internado</td>\n",
       "      <td>Maestría</td>\n",
       "      <td>Servicios financieros</td>\n",
       "      <td>Consultante</td>\n",
       "      <td>0</td>\n",
       "      <td>Es_Real</td>\n",
       "      <td>Benito Juárez CDMX</td>\n",
       "      <td>CDMX</td>\n",
       "      <td>19.379406</td>\n",
       "      <td>-99.159145</td>\n",
       "    </tr>\n",
       "    <tr>\n",
       "      <td>8</td>\n",
       "      <td>2015 Pregrado- Asociado de Gestión de Cuentas</td>\n",
       "      <td>Abierto solo a los graduados de la clase de 20...</td>\n",
       "      <td>0</td>\n",
       "      <td>1</td>\n",
       "      <td>1</td>\n",
       "      <td>Tiempo completo</td>\n",
       "      <td>Nivel Básico</td>\n",
       "      <td>Licenciatura</td>\n",
       "      <td>Servicios financieros</td>\n",
       "      <td>Ventas</td>\n",
       "      <td>0</td>\n",
       "      <td>Es_Real</td>\n",
       "      <td>Ciudad Madero Tamaulipas</td>\n",
       "      <td>Tamaulipas</td>\n",
       "      <td>22.276875</td>\n",
       "      <td>-97.833105</td>\n",
       "    </tr>\n",
       "    <tr>\n",
       "      <td>9</td>\n",
       "      <td>3 cuidadores de tiempo completo para una mujer...</td>\n",
       "      <td>¿Estás buscando un trabajo a tiempo completo d...</td>\n",
       "      <td>0</td>\n",
       "      <td>1</td>\n",
       "      <td>1</td>\n",
       "      <td>Tiempo completo</td>\n",
       "      <td>Nivel Básico</td>\n",
       "      <td>Educación Secundaria o equivalente</td>\n",
       "      <td>Organización cívica y social</td>\n",
       "      <td>Proveedor de atención sanitaria</td>\n",
       "      <td>0</td>\n",
       "      <td>Es_Real</td>\n",
       "      <td>Corregidora Querétaro</td>\n",
       "      <td>Queretaro</td>\n",
       "      <td>20.533464</td>\n",
       "      <td>-100.446286</td>\n",
       "    </tr>\n",
       "  </tbody>\n",
       "</table>\n",
       "</div>"
      ],
      "text/plain": [
       "                                              Título  \\\n",
       "0  (Pasantía) Asistente de Comunicación / E-Marke...   \n",
       "1  (Senior) Desarrollador Producto en la nube (m ...   \n",
       "2                            .Desarrollador de redes   \n",
       "3                            .Desarrollador de redes   \n",
       "4         .Net Developer - Nuevo producto al mercado   \n",
       "5      1099 Ventas médicas de contrato independiente   \n",
       "6  2 cuidadores de tiempo completo para una mujer...   \n",
       "7       2015 MBA Internship - Asesoría y Consultoría   \n",
       "8      2015 Pregrado- Asociado de Gestión de Cuentas   \n",
       "9  3 cuidadores de tiempo completo para una mujer...   \n",
       "\n",
       "                                         Descripción Teletrabajo Logo_empresa  \\\n",
       "0  Nacido en 2013, # URL_1126a42ca4e3346cc3e1a08f...           0            1   \n",
       "1  Somos una empresa de Internet de rápido crecim...           0            1   \n",
       "2  Este es un trabajo para alguien que quiere for...           0            1   \n",
       "3  Quiénes somos Aya Healthcare es una organizaci...           0            1   \n",
       "4  Por segundo año consecutivo, nuestros tecnólog...           0            1   \n",
       "5  Ahora tenemos un producto único que cualquier ...           0            1   \n",
       "6  ¿Estás buscando un trabajo de cuidado que sea ...           0            1   \n",
       "7  El grupo de Asesoría y Consultoría de Green St...           0            1   \n",
       "8  Abierto solo a los graduados de la clase de 20...           0            1   \n",
       "9  ¿Estás buscando un trabajo a tiempo completo d...           0            1   \n",
       "\n",
       "  Preguntas      Tipo_empleo           Experiencia  \\\n",
       "0         1  Tiempo completo             Internado   \n",
       "1         1  Tiempo completo               Asociar   \n",
       "2         0  Tiempo completo  Nivel medio superior   \n",
       "3         0  Tiempo completo             No aplica   \n",
       "4         0  Tiempo completo               Asociar   \n",
       "5         1             Otro               Asociar   \n",
       "6         1  Tiempo completo          Nivel Básico   \n",
       "7         1  Tiempo completo             Internado   \n",
       "8         1  Tiempo completo          Nivel Básico   \n",
       "9         1  Tiempo completo          Nivel Básico   \n",
       "\n",
       "                            Educación  \\\n",
       "0                     Sin especificar   \n",
       "1                        Licenciatura   \n",
       "2                     Sin especificar   \n",
       "3                     Sin especificar   \n",
       "4                     Sin especificar   \n",
       "5                        Licenciatura   \n",
       "6  Educación Secundaria o equivalente   \n",
       "7                            Maestría   \n",
       "8                        Licenciatura   \n",
       "9  Educación Secundaria o equivalente   \n",
       "\n",
       "                                     Sector                        Funciones  \\\n",
       "0                                  Internet                        Márketing   \n",
       "1                              Hospitalidad    Tecnologías de la información   \n",
       "2                     Software de ordenador    Tecnologías de la información   \n",
       "3  Tecnología de la Información y Servicios                      Consultante   \n",
       "4  Tecnología de la Información y Servicios    Tecnologías de la información   \n",
       "5                           Práctica médica                           Ventas   \n",
       "6                     Servicios financieros  Proveedor de atención sanitaria   \n",
       "7                     Servicios financieros                      Consultante   \n",
       "8                     Servicios financieros                           Ventas   \n",
       "9              Organización cívica y social  Proveedor de atención sanitaria   \n",
       "\n",
       "  fraudulento       FV                           Ciudad           Estado  \\\n",
       "0           0  Es_Real              Cancún Quintana Roo     Quintana Roo   \n",
       "1           0  Es_Real         Mexicali Baja California  Baja California   \n",
       "2           0  Es_Real                  Zapopan Jalisco          Jalisco   \n",
       "3           0  Es_Real            Guanajuato Guanajuato       Guanajuato   \n",
       "4           0  Es_Real  Nezahualcóyotl Estado de México           Edomex   \n",
       "5           0  Es_Real              Irapuato Guanajuato       Guanajuato   \n",
       "6           0  Es_Real              Querétaro Querétaro        Queretaro   \n",
       "7           0  Es_Real               Benito Juárez CDMX             CDMX   \n",
       "8           0  Es_Real         Ciudad Madero Tamaulipas       Tamaulipas   \n",
       "9           0  Es_Real            Corregidora Querétaro        Queretaro   \n",
       "\n",
       "     latitud    longitud  \n",
       "0  21.161908  -86.851528  \n",
       "1  32.624539 -115.452262  \n",
       "2  20.671956 -103.416501  \n",
       "3  21.019014 -101.257359  \n",
       "4  19.399493  -98.989664  \n",
       "5  20.678665 -101.354496  \n",
       "6  20.588793 -100.389888  \n",
       "7  19.379406  -99.159145  \n",
       "8  22.276875  -97.833105  \n",
       "9  20.533464 -100.446286  "
      ]
     },
     "execution_count": 9,
     "metadata": {},
     "output_type": "execute_result"
    }
   ],
   "source": [
    "df1['Teletrabajo'] = df1['Teletrabajo'].replace('0 0', 0) \n",
    "df1['Preguntas'] = df1['Preguntas'].replace('0 0', 0)\n",
    "df1['Logo_empresa'] = df1['Logo_empresa'].replace('0 0', 0)\n",
    "df1['fraudulento'] = df1['fraudulento'].replace('0 0', 0)\n",
    "\n",
    "df1.head(10)"
   ]
  },
  {
   "cell_type": "code",
   "execution_count": 10,
   "metadata": {},
   "outputs": [],
   "source": [
    "df1[['fraudulento']] = df1[['fraudulento']].astype(int)\n",
    "df1[['Teletrabajo']] = df1[['Teletrabajo']].astype(int)\n",
    "df1[['Logo_empresa']] = df1[['Logo_empresa']].astype(int)\n",
    "df1[['Preguntas']] = df1[['Preguntas']].astype(int)"
   ]
  },
  {
   "cell_type": "code",
   "execution_count": 11,
   "metadata": {},
   "outputs": [
    {
     "data": {
      "text/plain": [
       "0    4278\n",
       "1      93\n",
       "Name: fraudulento, dtype: int64"
      ]
     },
     "execution_count": 11,
     "metadata": {},
     "output_type": "execute_result"
    }
   ],
   "source": [
    "df1['fraudulento'].value_counts()\n"
   ]
  },
  {
   "cell_type": "code",
   "execution_count": 15,
   "metadata": {},
   "outputs": [],
   "source": [
    "# Utilizamos las librerías Spacy como herramienta de NLP y NLTK para la conversión de palabras a objetos \n",
    "# estadísticos para el análisis - stopwords\n",
    "\n",
    "\n",
    "import spacy\n",
    "from nltk.corpus import stopwords\n",
    "\n",
    "nlp = spacy.load('es_core_news_lg')\n",
    "stopw = stopwords.words('spanish')\n"
   ]
  },
  {
   "cell_type": "code",
   "execution_count": 16,
   "metadata": {},
   "outputs": [],
   "source": [
    "punctuations = string.punctuation"
   ]
  },
  {
   "cell_type": "code",
   "execution_count": 17,
   "metadata": {},
   "outputs": [],
   "source": [
    "\n",
    "def limpia_texto(docs, logging = False):\n",
    "    texts = []\n",
    "    counter = 1\n",
    "    for doc in docs:\n",
    "        if counter % 100 == 0 and logging:\n",
    "            print('Procesados: {} de {} documentos'.format(counter, len(docs)))\n",
    "        counter += 1\n",
    "        doc = nlp(doc, disable = ['parser', 'ner'])\n",
    "        tokens = [tok.lemma_.lower().strip() for tok in doc if tok.lemma_ != '-PRON-']\n",
    "        tokens = [tok for tok in tokens if tok not in stopw and tok not in punctuations]\n",
    "        tokens = ' '.join(tokens)\n",
    "        texts.append(tokens)\n",
    "    return pd.Series(texts) "
   ]
  },
  {
   "cell_type": "code",
   "execution_count": 18,
   "metadata": {},
   "outputs": [],
   "source": [
    "Falso_1 = [text for text in df1[df1['fraudulento'] == 1]['Descripción']]"
   ]
  },
  {
   "cell_type": "code",
   "execution_count": 19,
   "metadata": {},
   "outputs": [
    {
     "data": {
      "text/plain": [
       "'Descripción corporativa Aker Solutions es un proveedor global de productos, sistemas y servicios para la industria del petróleo y el gas.\\xa0Nuestra ingeniería, diseño y tecnología aportan descubrimientos a la producción y maximizan la recuperación de cada campo petrolero.\\xa0Empleamos a aproximadamente 28,000 personas en aproximadamente 30 países.\\xa0Vaya a # URL_0fa3f7c5e23a16de16a841e368006cae916884407d90b154dfef3976483a71ae # para obtener más información sobre nuestro negocio, personas y valores. Responsabilidades y tareas Responsables de las tareas de diseño generales dentro de su área Produzca conceptos, dibujos, ensamblajes y piezas mediante el sistema de hardware de SAP. input Responsable del cumplimiento de las normas de salud, medio ambiente y seguridad Cálculos de diseño (cálculos manuales o herramientas) para verificar la resistencia de los componentes y similares.\\xa0Asistir a la organización del personal durante el trabajo de licitación cuando sea necesario Adherir a los documentos y regulaciones de la empresa Calificaciones y amp;\\xa0atributos personales B.Sc.\\xa0Licenciado en disciplina de ingeniería relevante.\\xa0(Las personas que no tengan calificaciones teóricas relevantes deben tener un mínimo de 3 años de experiencia práctica de la industria relevante) Experiencia práctica con modelado 3D, ensamblaje y amplificador;\\xa0dibujos de mecanizado, tolerancias geométricas Sistema SolidWorks CAD u otros sistemas CAD 3D similares Necesita ser estructurado y analítico Independiente con buenas habilidades de comunicación Jugador de equipo y orientado a soluciones Buenas habilidades de comunicación Ofrecemos â € ¢ Colegas amigables en una industria con un futuro brillante. â € ¢ Un entorno donde se le anima a desarrollar sus habilidades y compartir sus conocimientos con sus colegas. Beneficios competitivos y un fuerte enfoque en el equilibrio entre la vida laboral y personal. Aker Solutions es un proveedor global de productos, sistemas y servicios para la industria del petróleo y el gas.\\xa0Nuestra ingeniería, diseño y tecnología aportan descubrimientos a la producción y maximizan la recuperación de cada campo petrolero.\\xa0Empleamos a aproximadamente 28,000 personas en aproximadamente 30 países.\\xa0Vaya a # URL_0fa3f7c5e23a16de16a841e368006cae916884407d90b154dfef3976483a71ae # para obtener más información sobre nuestro negocio, personas y valores.'"
      ]
     },
     "execution_count": 19,
     "metadata": {},
     "output_type": "execute_result"
    }
   ],
   "source": [
    "Falso_1[10] # Obtenemos la primera muestra de la columna de 'Descripción' de la vacante"
   ]
  },
  {
   "cell_type": "code",
   "execution_count": 20,
   "metadata": {},
   "outputs": [],
   "source": [
    "Falso_0 = [text for text in df1[df1['fraudulento'] == 0]['Descripción']] # Generamos la base de los negativos"
   ]
  },
  {
   "cell_type": "code",
   "execution_count": 21,
   "metadata": {},
   "outputs": [],
   "source": [
    "Falso_1_limpieza = limpia_texto(Falso_1)\n",
    "Falso_1_limpieza = ' '.join(Falso_1_limpieza).split()\n"
   ]
  },
  {
   "cell_type": "code",
   "execution_count": 22,
   "metadata": {},
   "outputs": [
    {
     "data": {
      "text/plain": [
       "30968"
      ]
     },
     "execution_count": 22,
     "metadata": {},
     "output_type": "execute_result"
    }
   ],
   "source": [
    "len(Falso_1_limpieza) # Longitud de los elementos convertidos a  componentes estructurados de empleo falso \n"
   ]
  },
  {
   "cell_type": "code",
   "execution_count": 23,
   "metadata": {},
   "outputs": [],
   "source": [
    "Falso_0_limpieza = limpia_texto(Falso_0)\n",
    "Falso_0_limpieza = ' '.join(Falso_0_limpieza).split()"
   ]
  },
  {
   "cell_type": "code",
   "execution_count": 24,
   "metadata": {},
   "outputs": [
    {
     "data": {
      "text/plain": [
       "1220518"
      ]
     },
     "execution_count": 24,
     "metadata": {},
     "output_type": "execute_result"
    }
   ],
   "source": [
    "len(Falso_0_limpieza) # Longitud de los elementos convertidos a  componentes estructurados de empleo real "
   ]
  },
  {
   "cell_type": "code",
   "execution_count": 26,
   "metadata": {},
   "outputs": [],
   "source": [
    "# Comparación entre componentes falsos y verdaderos extraídos\n",
    "\n",
    "Falso_1_cantidad = Counter(Falso_1_limpieza)\n",
    "Falso_0_cantidad = Counter(Falso_0_limpieza)"
   ]
  },
  {
   "cell_type": "code",
   "execution_count": 27,
   "metadata": {},
   "outputs": [],
   "source": [
    "Falso_1_palabras_comunes = [word[0] for word in Falso_1_cantidad.most_common(20)]\n",
    "Falso_1_cantidades_comunes = [word[1] for word in Falso_1_cantidad.most_common(20)]"
   ]
  },
  {
   "cell_type": "code",
   "execution_count": 49,
   "metadata": {
    "scrolled": true
   },
   "outputs": [
    {
     "data": {
      "image/png": "[encoded data removed]",
      "text/plain": [
       "<Figure size 1440x1440 with 1 Axes>"
      ]
     },
     "metadata": {
      "needs_background": "light"
     },
     "output_type": "display_data"
    }
   ],
   "source": [
    "fig = plt.figure(figsize = (20,20))\n",
    "pal = sns.color_palette('cubehelix', 20)\n",
    "sns.barplot(x = Falso_1_palabras_comunes, y = Falso_1_cantidades_comunes, palette = pal)\n",
    "plt.title('Palabras más utilizadas en los empleos fraudulentos')\n",
    "plt.ylabel('Frecuencia de palabras')\n",
    "plt.xlabel('Palabras')\n",
    "plt.savefig('proyecto_bedu/Palabras_mas_utilizadas_en_falsos.png')\n",
    "plt.show()\n"
   ]
  },
  {
   "cell_type": "code",
   "execution_count": 50,
   "metadata": {},
   "outputs": [],
   "source": [
    "Falso_0_palabras_comunes = [word[0] for word in Falso_1_cantidad.most_common(20)]\n",
    "Falso_0_cantidades_comunes = [word[1] for word in Falso_1_cantidad.most_common(20)]"
   ]
  },
  {
   "cell_type": "code",
   "execution_count": 51,
   "metadata": {},
   "outputs": [
    {
     "data": {
      "image/png": "[encoded data removed]",
      "text/plain": [
       "<Figure size 1440x1440 with 1 Axes>"
      ]
     },
     "metadata": {
      "needs_background": "light"
     },
     "output_type": "display_data"
    }
   ],
   "source": [
    "fig = plt.figure(figsize = (20,20))\n",
    "pal = sns.color_palette('cubehelix', 20)\n",
    "sns.barplot(x = Falso_0_palabras_comunes, y = Falso_0_cantidades_comunes, palette = pal)\n",
    "plt.title('Palabras más utilizadas en empleos verdaderos')\n",
    "plt.ylabel('Frecuencia de palabras')\n",
    "plt.xlabel('Palabras')\n",
    "plt.savefig('proyecto_bedu/Palabras_mas_utilizadas_en_verdaderos.png')\n",
    "plt.show()"
   ]
  },
  {
   "cell_type": "markdown",
   "metadata": {},
   "source": [
    "#### Limpieza adicional del dataset para ML "
   ]
  },
  {
   "cell_type": "code",
   "execution_count": 53,
   "metadata": {},
   "outputs": [],
   "source": [
    "# Descarga de Librerías para análisis NLP en español\n",
    "\n",
    "from sklearn.feature_extraction.text import CountVectorizer\n",
    "from sklearn.model_selection import train_test_split\n",
    "from sklearn.compose import ColumnTransformer\n",
    "from sklearn import preprocessing\n",
    "from sklearn.preprocessing import OneHotEncoder\n",
    "from sklearn.feature_extraction.stop_words import ENGLISH_STOP_WORDS\n",
    "\n",
    "import spacy\n",
    "nlp = spacy.load('es_core_news_lg')\n",
    "from nltk.corpus import stopwords\n",
    "stopw = stopwords.words('spanish')"
   ]
  },
  {
   "cell_type": "code",
   "execution_count": 55,
   "metadata": {},
   "outputs": [],
   "source": [
    "# Preparamos los módulos para el mapeo de palabras\n",
    "\n",
    "LISTA = set(stopwords.words('spanish') + list(ENGLISH_STOP_WORDS))\n",
    "SIMBOLOS = ' '.join(string.punctuation).split(' ')"
   ]
  },
  {
   "cell_type": "code",
   "execution_count": 56,
   "metadata": {},
   "outputs": [],
   "source": [
    "# Definimos los tókens para el análisis de texto\n",
    "\n",
    "def tokenizetext(sample):\n",
    "    text = sample.strip().replace(\"\\n\", \" \").replace(\"\\r\", \" \")\n",
    "    text = text.lower()\n",
    "    tokens = parser(text)\n",
    "    lemmas = []\n",
    "    for tok in tokens:\n",
    "        lemmas.append(tok.lemma_.lower().strip() if tok.lemma_ != \"-PRON-\" else tok.lower_)\n",
    "    tokens = lemmas\n",
    "    tokens = [tok for tok in tokens if tok not in LISTA]\n",
    "    tokens = [tok for tok in tokens if tok not in SIMBOLOS]\n",
    "    return tokens"
   ]
  },
  {
   "cell_type": "code",
   "execution_count": 58,
   "metadata": {},
   "outputs": [],
   "source": [
    "# Creamos los vectores correspondientes para manipular los resultados de los tókens\n",
    "\n",
    "vectorizer = CountVectorizer(tokenizer = tokenizetext, ngram_range = (1,3), min_df= 0.6) "
   ]
  },
  {
   "cell_type": "code",
   "execution_count": 59,
   "metadata": {},
   "outputs": [],
   "source": [
    "# Definimos como objetivo de valores la columna de \"Descripción\"\n",
    "\n",
    "vectorizer_features = vectorizer.fit_transform(df1['Descripción'])"
   ]
  },
  {
   "cell_type": "code",
   "execution_count": 60,
   "metadata": {},
   "outputs": [
    {
     "data": {
      "text/plain": [
       "(4371, 6)"
      ]
     },
     "execution_count": 60,
     "metadata": {},
     "output_type": "execute_result"
    }
   ],
   "source": [
    "# Comprobamos el tamaño del df\n",
    "\n",
    "vectorizer_features.shape"
   ]
  },
  {
   "cell_type": "code",
   "execution_count": 61,
   "metadata": {},
   "outputs": [
    {
     "data": {
      "text/plain": [
       "<4371x6 sparse matrix of type '<class 'numpy.int64'>'\n",
       "\twith 20148 stored elements in Compressed Sparse Row format>"
      ]
     },
     "execution_count": 61,
     "metadata": {},
     "output_type": "execute_result"
    }
   ],
   "source": [
    "# Recuperamos las características de los vectores almacenados \n",
    "\n",
    "vectorizer_features"
   ]
  },
  {
   "cell_type": "code",
   "execution_count": 64,
   "metadata": {},
   "outputs": [
    {
     "data": {
      "text/html": [
       "<div>\n",
       "<style scoped>\n",
       "    .dataframe tbody tr th:only-of-type {\n",
       "        vertical-align: middle;\n",
       "    }\n",
       "\n",
       "    .dataframe tbody tr th {\n",
       "        vertical-align: top;\n",
       "    }\n",
       "\n",
       "    .dataframe thead th {\n",
       "        text-align: right;\n",
       "    }\n",
       "</style>\n",
       "<table border=\"1\" class=\"dataframe\">\n",
       "  <thead>\n",
       "    <tr style=\"text-align: right;\">\n",
       "      <th></th>\n",
       "      <th>Título</th>\n",
       "      <th>Teletrabajo</th>\n",
       "      <th>Logo_empresa</th>\n",
       "      <th>Preguntas</th>\n",
       "      <th>Tipo_empleo</th>\n",
       "      <th>Experiencia</th>\n",
       "      <th>Educación</th>\n",
       "      <th>Sector</th>\n",
       "      <th>Funciones</th>\n",
       "      <th>fraudulento</th>\n",
       "      <th>FV</th>\n",
       "      <th>Ciudad</th>\n",
       "      <th>Estado</th>\n",
       "      <th>latitud</th>\n",
       "      <th>longitud</th>\n",
       "      <th></th>\n",
       "      <th>clientes</th>\n",
       "      <th>equipo</th>\n",
       "      <th>experiencia</th>\n",
       "      <th>habilidades</th>\n",
       "      <th>trabajo</th>\n",
       "    </tr>\n",
       "  </thead>\n",
       "  <tbody>\n",
       "    <tr>\n",
       "      <td>0</td>\n",
       "      <td>(Pasantía) Asistente de Comunicación / E-Marke...</td>\n",
       "      <td>0</td>\n",
       "      <td>1</td>\n",
       "      <td>1</td>\n",
       "      <td>Tiempo completo</td>\n",
       "      <td>Internado</td>\n",
       "      <td>Sin especificar</td>\n",
       "      <td>Internet</td>\n",
       "      <td>Márketing</td>\n",
       "      <td>0</td>\n",
       "      <td>0.0</td>\n",
       "      <td>0.0</td>\n",
       "      <td>0.0</td>\n",
       "      <td>21.161908</td>\n",
       "      <td>-86.851528</td>\n",
       "      <td>9</td>\n",
       "      <td>0</td>\n",
       "      <td>3</td>\n",
       "      <td>2</td>\n",
       "      <td>2</td>\n",
       "      <td>0</td>\n",
       "    </tr>\n",
       "    <tr>\n",
       "      <td>1</td>\n",
       "      <td>(Senior) Desarrollador Producto en la nube (m ...</td>\n",
       "      <td>0</td>\n",
       "      <td>1</td>\n",
       "      <td>1</td>\n",
       "      <td>Tiempo completo</td>\n",
       "      <td>Asociar</td>\n",
       "      <td>Licenciatura</td>\n",
       "      <td>Hospitalidad</td>\n",
       "      <td>Tecnologías de la información</td>\n",
       "      <td>0</td>\n",
       "      <td>0.0</td>\n",
       "      <td>0.0</td>\n",
       "      <td>0.0</td>\n",
       "      <td>32.624539</td>\n",
       "      <td>-115.452262</td>\n",
       "      <td>6</td>\n",
       "      <td>0</td>\n",
       "      <td>3</td>\n",
       "      <td>2</td>\n",
       "      <td>0</td>\n",
       "      <td>0</td>\n",
       "    </tr>\n",
       "    <tr>\n",
       "      <td>2</td>\n",
       "      <td>.Desarrollador de redes</td>\n",
       "      <td>0</td>\n",
       "      <td>1</td>\n",
       "      <td>0</td>\n",
       "      <td>Tiempo completo</td>\n",
       "      <td>Nivel medio superior</td>\n",
       "      <td>Sin especificar</td>\n",
       "      <td>Software de ordenador</td>\n",
       "      <td>Tecnologías de la información</td>\n",
       "      <td>0</td>\n",
       "      <td>0.0</td>\n",
       "      <td>0.0</td>\n",
       "      <td>0.0</td>\n",
       "      <td>20.671956</td>\n",
       "      <td>-103.416501</td>\n",
       "      <td>13</td>\n",
       "      <td>1</td>\n",
       "      <td>6</td>\n",
       "      <td>11</td>\n",
       "      <td>4</td>\n",
       "      <td>1</td>\n",
       "    </tr>\n",
       "    <tr>\n",
       "      <td>3</td>\n",
       "      <td>.Desarrollador de redes</td>\n",
       "      <td>0</td>\n",
       "      <td>1</td>\n",
       "      <td>0</td>\n",
       "      <td>Tiempo completo</td>\n",
       "      <td>No aplica</td>\n",
       "      <td>Sin especificar</td>\n",
       "      <td>Tecnología de la Información y Servicios</td>\n",
       "      <td>Consultante</td>\n",
       "      <td>0</td>\n",
       "      <td>0.0</td>\n",
       "      <td>0.0</td>\n",
       "      <td>0.0</td>\n",
       "      <td>21.019014</td>\n",
       "      <td>-101.257359</td>\n",
       "      <td>8</td>\n",
       "      <td>4</td>\n",
       "      <td>3</td>\n",
       "      <td>1</td>\n",
       "      <td>2</td>\n",
       "      <td>3</td>\n",
       "    </tr>\n",
       "    <tr>\n",
       "      <td>4</td>\n",
       "      <td>.Net Developer - Nuevo producto al mercado</td>\n",
       "      <td>0</td>\n",
       "      <td>1</td>\n",
       "      <td>0</td>\n",
       "      <td>Tiempo completo</td>\n",
       "      <td>Asociar</td>\n",
       "      <td>Sin especificar</td>\n",
       "      <td>Tecnología de la Información y Servicios</td>\n",
       "      <td>Tecnologías de la información</td>\n",
       "      <td>0</td>\n",
       "      <td>0.0</td>\n",
       "      <td>0.0</td>\n",
       "      <td>0.0</td>\n",
       "      <td>19.399493</td>\n",
       "      <td>-98.989664</td>\n",
       "      <td>14</td>\n",
       "      <td>1</td>\n",
       "      <td>2</td>\n",
       "      <td>0</td>\n",
       "      <td>0</td>\n",
       "      <td>1</td>\n",
       "    </tr>\n",
       "  </tbody>\n",
       "</table>\n",
       "</div>"
      ],
      "text/plain": [
       "                                              Título  Teletrabajo  \\\n",
       "0  (Pasantía) Asistente de Comunicación / E-Marke...            0   \n",
       "1  (Senior) Desarrollador Producto en la nube (m ...            0   \n",
       "2                            .Desarrollador de redes            0   \n",
       "3                            .Desarrollador de redes            0   \n",
       "4         .Net Developer - Nuevo producto al mercado            0   \n",
       "\n",
       "   Logo_empresa  Preguntas      Tipo_empleo           Experiencia  \\\n",
       "0             1          1  Tiempo completo             Internado   \n",
       "1             1          1  Tiempo completo               Asociar   \n",
       "2             1          0  Tiempo completo  Nivel medio superior   \n",
       "3             1          0  Tiempo completo             No aplica   \n",
       "4             1          0  Tiempo completo               Asociar   \n",
       "\n",
       "         Educación                                    Sector  \\\n",
       "0  Sin especificar                                  Internet   \n",
       "1     Licenciatura                              Hospitalidad   \n",
       "2  Sin especificar                     Software de ordenador   \n",
       "3  Sin especificar  Tecnología de la Información y Servicios   \n",
       "4  Sin especificar  Tecnología de la Información y Servicios   \n",
       "\n",
       "                       Funciones  fraudulento   FV  Ciudad  Estado    latitud  \\\n",
       "0                      Márketing            0  0.0     0.0     0.0  21.161908   \n",
       "1  Tecnologías de la información            0  0.0     0.0     0.0  32.624539   \n",
       "2  Tecnologías de la información            0  0.0     0.0     0.0  20.671956   \n",
       "3                    Consultante            0  0.0     0.0     0.0  21.019014   \n",
       "4  Tecnologías de la información            0  0.0     0.0     0.0  19.399493   \n",
       "\n",
       "     longitud      clientes  equipo  experiencia  habilidades  trabajo  \n",
       "0  -86.851528   9         0       3            2            2        0  \n",
       "1 -115.452262   6         0       3            2            0        0  \n",
       "2 -103.416501  13         1       6           11            4        1  \n",
       "3 -101.257359   8         4       3            1            2        3  \n",
       "4  -98.989664  14         1       2            0            0        1  "
      ]
     },
     "execution_count": 64,
     "metadata": {},
     "output_type": "execute_result"
    }
   ],
   "source": [
    "# Asignamos los atributos y valores a cada elemento de vector para Descripcion, Ciudad, FV y Estado\n",
    "# con el fin de producir un punto de comparación \n",
    "\n",
    "df_vectorizado = pd.DataFrame(vectorizer_features.todense(), columns = vectorizer.get_feature_names())\n",
    "df_vectorizado = pd.concat([df1, df_vectorizado], axis = 1)\n",
    "df_vectorizado.drop('Descripción', axis = 1, inplace = True)\n",
    "df_vectorizado.dropna(inplace=True)\n",
    "df_vectorizado['Ciudad'] = pd.to_numeric(df['Ciudad'], errors='coerce')\n",
    "df_vectorizado['FV'] = pd.to_numeric(df['FV'], errors='coerce')\n",
    "df_vectorizado['Estado'] = pd.to_numeric(df['Estado'], errors='coerce')\n",
    "df_vectorizado = df_vectorizado.replace(np.nan, 0, regex=True)\n",
    "df_vectorizado.head(5)"
   ]
  },
  {
   "cell_type": "code",
   "execution_count": 65,
   "metadata": {},
   "outputs": [
    {
     "data": {
      "text/plain": [
       "Título           object\n",
       "Teletrabajo       int32\n",
       "Logo_empresa      int32\n",
       "Preguntas         int32\n",
       "Tipo_empleo      object\n",
       "Experiencia      object\n",
       "Educación        object\n",
       "Sector           object\n",
       "Funciones        object\n",
       "fraudulento       int32\n",
       "FV              float64\n",
       "Ciudad          float64\n",
       "Estado          float64\n",
       "latitud         float64\n",
       "longitud        float64\n",
       "                  int64\n",
       "clientes          int64\n",
       "equipo            int64\n",
       "experiencia       int64\n",
       "habilidades       int64\n",
       "trabajo           int64\n",
       "dtype: object"
      ]
     },
     "execution_count": 65,
     "metadata": {},
     "output_type": "execute_result"
    }
   ],
   "source": [
    "# Nos asegurmos que cada objeto-vector esté parametrizado para que funcionen las librerías de NLP \n",
    "\n",
    "df_vectorizado.dtypes"
   ]
  },
  {
   "cell_type": "code",
   "execution_count": 66,
   "metadata": {},
   "outputs": [],
   "source": [
    "columnas = ['Tipo_empleo', 'Experiencia', 'Educación', 'Sector', 'Funciones']\n",
    "for columna in columnas: \n",
    "    encoded = pd.get_dummies(df_vectorizado[columna])\n",
    "    df_vectorizado = pd.concat([df_vectorizado, encoded], axis = 1)\n",
    "    "
   ]
  },
  {
   "cell_type": "code",
   "execution_count": 67,
   "metadata": {},
   "outputs": [],
   "source": [
    "columnas += ['Título', 'Ciudad']\n",
    "df_vectorizado.drop(columnas, axis = 1, inplace = True)"
   ]
  },
  {
   "cell_type": "code",
   "execution_count": 79,
   "metadata": {},
   "outputs": [],
   "source": [
    "# Proponemos una columna con valores que funcionarán como base para la comparación vectorial \n",
    "\n",
    "objetivo = df_vectorizado['fraudulento']\n",
    "caracteristicas = df_vectorizado.drop('fraudulento', axis = 1)\n",
    "X_train, X_test, y_train, y_test = train_test_split(caracteristicas, objetivo, test_size = 0.1, \n",
    "                                                    stratify = objetivo, random_state=42)\n"
   ]
  },
  {
   "cell_type": "code",
   "execution_count": 80,
   "metadata": {},
   "outputs": [],
   "source": [
    "# Crearemos un par de listas vacías para ir agregando los resultados de cada análisis ML para \n",
    "# la gráfica donde expondremos los resultados de cada modelo ML implementado \n",
    "\n",
    "Model_Score = []\n",
    "Model_Name = []"
   ]
  },
  {
   "cell_type": "code",
   "execution_count": 81,
   "metadata": {},
   "outputs": [],
   "source": [
    "# Agregamos las librerías adicionales \n",
    "\n",
    "from sklearn.model_selection import GridSearchCV\n",
    "\n",
    "from sklearn.linear_model import LogisticRegression\n",
    "from sklearn.neighbors import KNeighborsClassifier\n",
    "from sklearn.svm import SVC\n",
    "from sklearn.ensemble import RandomForestClassifier\n",
    "from sklearn.neural_network import MLPClassifier\n",
    "\n",
    "from sklearn.metrics import accuracy_score, confusion_matrix, classification_report, roc_auc_score"
   ]
  },
  {
   "cell_type": "markdown",
   "metadata": {},
   "source": [
    "## K-Vecinos más cercanos (KNN)--------------------------------------------"
   ]
  },
  {
   "cell_type": "code",
   "execution_count": 82,
   "metadata": {},
   "outputs": [
    {
     "name": "stdout",
     "output_type": "stream",
     "text": [
      "{'n_neighbors': [2, 4, 6, 8, 10, 12, 14, 16, 18, 20, 22]}\n"
     ]
    }
   ],
   "source": [
    "knn = KNeighborsClassifier()\n",
    "k_range = list(np.arange(2, 23, 2))\n",
    "param_grid_knn = dict(n_neighbors = k_range)\n",
    "print (param_grid_knn)"
   ]
  },
  {
   "cell_type": "code",
   "execution_count": 83,
   "metadata": {},
   "outputs": [],
   "source": [
    "grid_knn = GridSearchCV(knn, param_grid_knn, cv = 10, scoring = 'roc_auc', n_jobs = -1, verbose = 1)"
   ]
  },
  {
   "cell_type": "code",
   "execution_count": 84,
   "metadata": {},
   "outputs": [
    {
     "name": "stdout",
     "output_type": "stream",
     "text": [
      "Fitting 10 folds for each of 11 candidates, totalling 110 fits\n"
     ]
    },
    {
     "name": "stderr",
     "output_type": "stream",
     "text": [
      "[Parallel(n_jobs=-1)]: Using backend LokyBackend with 8 concurrent workers.\n",
      "[Parallel(n_jobs=-1)]: Done  34 tasks      | elapsed:    6.7s\n",
      "[Parallel(n_jobs=-1)]: Done 110 out of 110 | elapsed:   13.4s finished\n"
     ]
    },
    {
     "data": {
      "text/plain": [
       "GridSearchCV(cv=10, error_score='raise-deprecating',\n",
       "             estimator=KNeighborsClassifier(algorithm='auto', leaf_size=30,\n",
       "                                            metric='minkowski',\n",
       "                                            metric_params=None, n_jobs=None,\n",
       "                                            n_neighbors=5, p=2,\n",
       "                                            weights='uniform'),\n",
       "             iid='warn', n_jobs=-1,\n",
       "             param_grid={'n_neighbors': [2, 4, 6, 8, 10, 12, 14, 16, 18, 20,\n",
       "                                         22]},\n",
       "             pre_dispatch='2*n_jobs', refit=True, return_train_score=False,\n",
       "             scoring='roc_auc', verbose=1)"
      ]
     },
     "execution_count": 84,
     "metadata": {},
     "output_type": "execute_result"
    }
   ],
   "source": [
    "grid_knn.fit(X_train, y_train)"
   ]
  },
  {
   "cell_type": "code",
   "execution_count": 85,
   "metadata": {},
   "outputs": [
    {
     "data": {
      "text/plain": [
       "0.6951779988417097"
      ]
     },
     "execution_count": 85,
     "metadata": {},
     "output_type": "execute_result"
    }
   ],
   "source": [
    "grid_knn.best_score_\n"
   ]
  },
  {
   "cell_type": "code",
   "execution_count": 86,
   "metadata": {},
   "outputs": [
    {
     "data": {
      "text/plain": [
       "{'n_neighbors': 18}"
      ]
     },
     "execution_count": 86,
     "metadata": {},
     "output_type": "execute_result"
    }
   ],
   "source": [
    "grid_knn.best_params_"
   ]
  },
  {
   "cell_type": "code",
   "execution_count": 87,
   "metadata": {},
   "outputs": [],
   "source": [
    "knn_pred = grid_knn.predict(X_test)"
   ]
  },
  {
   "cell_type": "code",
   "execution_count": 88,
   "metadata": {},
   "outputs": [
    {
     "name": "stdout",
     "output_type": "stream",
     "text": [
      "0.5\n"
     ]
    },
    {
     "name": "stderr",
     "output_type": "stream",
     "text": [
      "C:\\Users\\OSWALDO\\Anaconda3\\lib\\site-packages\\sklearn\\metrics\\classification.py:1437: UndefinedMetricWarning: Precision and F-score are ill-defined and being set to 0.0 in labels with no predicted samples.\n",
      "  'precision', 'predicted', average, warn_for)\n"
     ]
    },
    {
     "name": "stdout",
     "output_type": "stream",
     "text": [
      "              precision    recall  f1-score   support\n",
      "\n",
      "           0       0.98      1.00      0.99       429\n",
      "           1       0.00      0.00      0.00         9\n",
      "\n",
      "    accuracy                           0.98       438\n",
      "   macro avg       0.49      0.50      0.49       438\n",
      "weighted avg       0.96      0.98      0.97       438\n",
      "\n"
     ]
    }
   ],
   "source": [
    "print (roc_auc_score(y_test, knn_pred))\n",
    "print (classification_report(y_test, knn_pred))"
   ]
  },
  {
   "cell_type": "code",
   "execution_count": 89,
   "metadata": {},
   "outputs": [],
   "source": [
    "Model_Name.append('KNN')\n",
    "Model_Score.append(round(roc_auc_score(y_test, knn_pred), 4))"
   ]
  },
  {
   "cell_type": "markdown",
   "metadata": {},
   "source": [
    "### REGRESIÓN LOGÍSTICA-----------------------------------------------------"
   ]
  },
  {
   "cell_type": "code",
   "execution_count": 90,
   "metadata": {},
   "outputs": [
    {
     "name": "stdout",
     "output_type": "stream",
     "text": [
      "Fitting 10 folds for each of 20 candidates, totalling 200 fits\n"
     ]
    },
    {
     "name": "stderr",
     "output_type": "stream",
     "text": [
      "[Parallel(n_jobs=-1)]: Using backend LokyBackend with 8 concurrent workers.\n",
      "[Parallel(n_jobs=-1)]: Done  88 tasks      | elapsed:    1.1s\n",
      "[Parallel(n_jobs=-1)]: Done 200 out of 200 | elapsed:   10.7s finished\n",
      "C:\\Users\\OSWALDO\\Anaconda3\\lib\\site-packages\\sklearn\\linear_model\\logistic.py:432: FutureWarning: Default solver will be changed to 'lbfgs' in 0.22. Specify a solver to silence this warning.\n",
      "  FutureWarning)\n"
     ]
    },
    {
     "data": {
      "text/plain": [
       "GridSearchCV(cv=10, error_score='raise-deprecating',\n",
       "             estimator=LogisticRegression(C=1.0, class_weight=None, dual=False,\n",
       "                                          fit_intercept=True,\n",
       "                                          intercept_scaling=1, l1_ratio=None,\n",
       "                                          max_iter=100, multi_class='warn',\n",
       "                                          n_jobs=None, penalty='l2',\n",
       "                                          random_state=None, solver='warn',\n",
       "                                          tol=0.0001, verbose=0,\n",
       "                                          warm_start=False),\n",
       "             iid='warn', n_jobs=-1,\n",
       "             param_grid={'C': [1e-05, 0.0001, 0.001, 0.01, 0.1, 1, 10, 100,\n",
       "                               1000, 10000],\n",
       "                         'penalty': ['l1', 'l2']},\n",
       "             pre_dispatch='2*n_jobs', refit=True, return_train_score=False,\n",
       "             scoring='roc_auc', verbose=1)"
      ]
     },
     "execution_count": 90,
     "metadata": {},
     "output_type": "execute_result"
    }
   ],
   "source": [
    "log_reg = LogisticRegression()\n",
    "c_values = [0.00001, 0.0001, 0.001, 0.01, 0.1, 1, 10, 100, 1000, 10000]\n",
    "penalty_options = ['l1', 'l2']\n",
    "\n",
    "param_grid = dict(C = c_values, penalty = penalty_options)\n",
    "\n",
    "grid_tfidf = GridSearchCV(log_reg, param_grid = param_grid, cv = 10, \n",
    "                          scoring = 'roc_auc', n_jobs = -1, verbose=1)\n",
    "\n",
    "grid_tfidf.fit(X_train, y_train)"
   ]
  },
  {
   "cell_type": "code",
   "execution_count": 92,
   "metadata": {},
   "outputs": [
    {
     "data": {
      "text/plain": [
       "0.8885852928782942"
      ]
     },
     "execution_count": 92,
     "metadata": {},
     "output_type": "execute_result"
    }
   ],
   "source": [
    "grid_tfidf.best_score_"
   ]
  },
  {
   "cell_type": "code",
   "execution_count": 93,
   "metadata": {},
   "outputs": [
    {
     "data": {
      "text/plain": [
       "{'C': 1000, 'penalty': 'l2'}"
      ]
     },
     "execution_count": 93,
     "metadata": {},
     "output_type": "execute_result"
    }
   ],
   "source": [
    "grid_tfidf.best_params_"
   ]
  },
  {
   "cell_type": "code",
   "execution_count": 95,
   "metadata": {},
   "outputs": [],
   "source": [
    "log_reg_pred = grid_tfidf.predict(X_test)"
   ]
  },
  {
   "cell_type": "code",
   "execution_count": 96,
   "metadata": {},
   "outputs": [
    {
     "data": {
      "text/plain": [
       "0.6076146076146077"
      ]
     },
     "execution_count": 96,
     "metadata": {},
     "output_type": "execute_result"
    }
   ],
   "source": [
    "roc_auc_score(y_test, log_reg_pred)"
   ]
  },
  {
   "cell_type": "code",
   "execution_count": 97,
   "metadata": {},
   "outputs": [
    {
     "name": "stdout",
     "output_type": "stream",
     "text": [
      "              precision    recall  f1-score   support\n",
      "\n",
      "           0       0.98      0.99      0.99       429\n",
      "           1       0.40      0.22      0.29         9\n",
      "\n",
      "    accuracy                           0.98       438\n",
      "   macro avg       0.69      0.61      0.64       438\n",
      "weighted avg       0.97      0.98      0.97       438\n",
      "\n"
     ]
    }
   ],
   "source": [
    "print (classification_report(y_test, log_reg_pred))"
   ]
  },
  {
   "cell_type": "code",
   "execution_count": 98,
   "metadata": {},
   "outputs": [],
   "source": [
    "Model_Name.append('Logistic_Regression')\n",
    "Model_Score.append(round(roc_auc_score(y_test, log_reg_pred), 4))"
   ]
  },
  {
   "cell_type": "markdown",
   "metadata": {},
   "source": [
    "### CLASIFICADOR DE SOPORTE VECTORIAL (SVC) ---------------------------------"
   ]
  },
  {
   "cell_type": "code",
   "execution_count": 99,
   "metadata": {},
   "outputs": [
    {
     "name": "stdout",
     "output_type": "stream",
     "text": [
      "{'kernel': ['linear', 'rbf']}\n"
     ]
    }
   ],
   "source": [
    "svc = SVC()\n",
    "kernel = ['linear', 'rbf']\n",
    "param_grid_knn = dict(kernel = kernel)\n",
    "print (param_grid_knn)"
   ]
  },
  {
   "cell_type": "code",
   "execution_count": 100,
   "metadata": {},
   "outputs": [],
   "source": [
    "grid_svc = GridSearchCV(svc, param_grid_knn, cv = 10, scoring = 'roc_auc', n_jobs = -1, verbose = 2)"
   ]
  },
  {
   "cell_type": "code",
   "execution_count": 101,
   "metadata": {},
   "outputs": [
    {
     "name": "stdout",
     "output_type": "stream",
     "text": [
      "Fitting 10 folds for each of 2 candidates, totalling 20 fits\n"
     ]
    },
    {
     "name": "stderr",
     "output_type": "stream",
     "text": [
      "[Parallel(n_jobs=-1)]: Using backend LokyBackend with 8 concurrent workers.\n",
      "[Parallel(n_jobs=-1)]: Done  16 out of  20 | elapsed:    2.2s remaining:    0.5s\n",
      "[Parallel(n_jobs=-1)]: Done  20 out of  20 | elapsed:    2.4s finished\n",
      "C:\\Users\\OSWALDO\\Anaconda3\\lib\\site-packages\\sklearn\\svm\\base.py:193: FutureWarning: The default value of gamma will change from 'auto' to 'scale' in version 0.22 to account better for unscaled features. Set gamma explicitly to 'auto' or 'scale' to avoid this warning.\n",
      "  \"avoid this warning.\", FutureWarning)\n"
     ]
    },
    {
     "data": {
      "text/plain": [
       "GridSearchCV(cv=10, error_score='raise-deprecating',\n",
       "             estimator=SVC(C=1.0, cache_size=200, class_weight=None, coef0=0.0,\n",
       "                           decision_function_shape='ovr', degree=3,\n",
       "                           gamma='auto_deprecated', kernel='rbf', max_iter=-1,\n",
       "                           probability=False, random_state=None, shrinking=True,\n",
       "                           tol=0.001, verbose=False),\n",
       "             iid='warn', n_jobs=-1, param_grid={'kernel': ['linear', 'rbf']},\n",
       "             pre_dispatch='2*n_jobs', refit=True, return_train_score=False,\n",
       "             scoring='roc_auc', verbose=2)"
      ]
     },
     "execution_count": 101,
     "metadata": {},
     "output_type": "execute_result"
    }
   ],
   "source": [
    "grid_svc.fit(X_train, y_train)"
   ]
  },
  {
   "cell_type": "code",
   "execution_count": 102,
   "metadata": {},
   "outputs": [
    {
     "data": {
      "text/plain": [
       "0.8586039626037719"
      ]
     },
     "execution_count": 102,
     "metadata": {},
     "output_type": "execute_result"
    }
   ],
   "source": [
    "grid_svc.best_score_"
   ]
  },
  {
   "cell_type": "code",
   "execution_count": 103,
   "metadata": {},
   "outputs": [
    {
     "data": {
      "text/plain": [
       "{'kernel': 'rbf'}"
      ]
     },
     "execution_count": 103,
     "metadata": {},
     "output_type": "execute_result"
    }
   ],
   "source": [
    "grid_svc.best_params_"
   ]
  },
  {
   "cell_type": "code",
   "execution_count": 104,
   "metadata": {},
   "outputs": [
    {
     "name": "stdout",
     "output_type": "stream",
     "text": [
      "0.5\n"
     ]
    },
    {
     "name": "stderr",
     "output_type": "stream",
     "text": [
      "C:\\Users\\OSWALDO\\Anaconda3\\lib\\site-packages\\sklearn\\metrics\\classification.py:1437: UndefinedMetricWarning: Precision and F-score are ill-defined and being set to 0.0 in labels with no predicted samples.\n",
      "  'precision', 'predicted', average, warn_for)\n"
     ]
    },
    {
     "name": "stdout",
     "output_type": "stream",
     "text": [
      "              precision    recall  f1-score   support\n",
      "\n",
      "           0       0.98      1.00      0.99       429\n",
      "           1       0.00      0.00      0.00         9\n",
      "\n",
      "    accuracy                           0.98       438\n",
      "   macro avg       0.49      0.50      0.49       438\n",
      "weighted avg       0.96      0.98      0.97       438\n",
      "\n"
     ]
    }
   ],
   "source": [
    "svc_pred = grid_svc.predict(X_test)\n",
    "\n",
    "print (roc_auc_score(y_test, svc_pred))\n",
    "print (classification_report(y_test, svc_pred))"
   ]
  },
  {
   "cell_type": "code",
   "execution_count": 105,
   "metadata": {},
   "outputs": [],
   "source": [
    "Model_Name.append('SVC')\n",
    "Model_Score.append(round(roc_auc_score(y_test, svc_pred), 4))"
   ]
  },
  {
   "cell_type": "markdown",
   "metadata": {},
   "source": [
    "###  CLASIFICADOR RANDOM FOREST (RFC) --------------------------------"
   ]
  },
  {
   "cell_type": "code",
   "execution_count": 106,
   "metadata": {},
   "outputs": [],
   "source": [
    "rf = RandomForestClassifier()\n",
    "n_estimators_range = [1, 2, 4, 8, 16, 32, 64, 100, 200]\n",
    "param_grid_rf = dict(n_estimators = n_estimators_range)\n",
    "grid_rf = GridSearchCV(rf, param_grid_rf, cv = 10, scoring = 'roc_auc', n_jobs = -1, verbose = 1)"
   ]
  },
  {
   "cell_type": "code",
   "execution_count": 107,
   "metadata": {},
   "outputs": [
    {
     "name": "stdout",
     "output_type": "stream",
     "text": [
      "Fitting 10 folds for each of 9 candidates, totalling 90 fits\n"
     ]
    },
    {
     "name": "stderr",
     "output_type": "stream",
     "text": [
      "[Parallel(n_jobs=-1)]: Using backend LokyBackend with 8 concurrent workers.\n",
      "[Parallel(n_jobs=-1)]: Done  52 tasks      | elapsed:    1.1s\n",
      "[Parallel(n_jobs=-1)]: Done  90 out of  90 | elapsed:    5.8s finished\n"
     ]
    },
    {
     "name": "stdout",
     "output_type": "stream",
     "text": [
      "0.9307929555259835\n",
      "{'n_estimators': 200}\n"
     ]
    }
   ],
   "source": [
    "grid_rf.fit(X_train, y_train)\n",
    "print (grid_rf.best_score_)\n",
    "print (grid_rf.best_params_)"
   ]
  },
  {
   "cell_type": "code",
   "execution_count": 108,
   "metadata": {},
   "outputs": [
    {
     "name": "stdout",
     "output_type": "stream",
     "text": [
      "0.6111111111111112\n",
      "              precision    recall  f1-score   support\n",
      "\n",
      "           0       0.98      1.00      0.99       429\n",
      "           1       1.00      0.22      0.36         9\n",
      "\n",
      "    accuracy                           0.98       438\n",
      "   macro avg       0.99      0.61      0.68       438\n",
      "weighted avg       0.98      0.98      0.98       438\n",
      "\n"
     ]
    }
   ],
   "source": [
    "rf_pred = grid_rf.predict(X_test)\n",
    "print (roc_auc_score(y_test, rf_pred))\n",
    "print (classification_report(y_test, rf_pred))"
   ]
  },
  {
   "cell_type": "code",
   "execution_count": 109,
   "metadata": {},
   "outputs": [],
   "source": [
    "Model_Name.append('Random_Forest')\n",
    "Model_Score.append(round(roc_auc_score(y_test, rf_pred), 4))"
   ]
  },
  {
   "cell_type": "markdown",
   "metadata": {},
   "source": [
    "####  CLASIFICADOR PERCEPTRÓN MULTICAPA (MLP optimizador 'ibfgs' sin estimación de params)"
   ]
  },
  {
   "cell_type": "code",
   "execution_count": 110,
   "metadata": {},
   "outputs": [],
   "source": [
    "mlp = MLPClassifier(solver = 'sgd', activation = 'relu', hidden_layer_sizes = (100, 50, 30), max_iter = 1000)"
   ]
  },
  {
   "cell_type": "code",
   "execution_count": 111,
   "metadata": {},
   "outputs": [
    {
     "data": {
      "text/plain": [
       "MLPClassifier(activation='relu', alpha=0.0001, batch_size='auto', beta_1=0.9,\n",
       "              beta_2=0.999, early_stopping=False, epsilon=1e-08,\n",
       "              hidden_layer_sizes=(100, 50, 30), learning_rate='constant',\n",
       "              learning_rate_init=0.001, max_iter=1000, momentum=0.9,\n",
       "              n_iter_no_change=10, nesterovs_momentum=True, power_t=0.5,\n",
       "              random_state=None, shuffle=True, solver='sgd', tol=0.0001,\n",
       "              validation_fraction=0.1, verbose=False, warm_start=False)"
      ]
     },
     "execution_count": 111,
     "metadata": {},
     "output_type": "execute_result"
    }
   ],
   "source": [
    "mlp.fit(X_train, y_train)"
   ]
  },
  {
   "cell_type": "code",
   "execution_count": 112,
   "metadata": {},
   "outputs": [
    {
     "name": "stdout",
     "output_type": "stream",
     "text": [
      "0.5\n"
     ]
    },
    {
     "name": "stderr",
     "output_type": "stream",
     "text": [
      "C:\\Users\\OSWALDO\\Anaconda3\\lib\\site-packages\\sklearn\\metrics\\classification.py:1437: UndefinedMetricWarning: Precision and F-score are ill-defined and being set to 0.0 in labels with no predicted samples.\n",
      "  'precision', 'predicted', average, warn_for)\n"
     ]
    },
    {
     "name": "stdout",
     "output_type": "stream",
     "text": [
      "              precision    recall  f1-score   support\n",
      "\n",
      "           0       0.98      1.00      0.99       429\n",
      "           1       0.00      0.00      0.00         9\n",
      "\n",
      "    accuracy                           0.98       438\n",
      "   macro avg       0.49      0.50      0.49       438\n",
      "weighted avg       0.96      0.98      0.97       438\n",
      "\n"
     ]
    }
   ],
   "source": [
    "mlp_pred = mlp.predict(X_test)\n",
    "print (roc_auc_score(y_test, mlp_pred))\n",
    "print (classification_report(y_test, mlp_pred))"
   ]
  },
  {
   "cell_type": "code",
   "execution_count": 113,
   "metadata": {},
   "outputs": [],
   "source": [
    "Model_Name.append('MLP-NN (sgd)')\n",
    "Model_Score.append(round(roc_auc_score(y_test, mlp_pred), 4))"
   ]
  },
  {
   "cell_type": "markdown",
   "metadata": {},
   "source": [
    "#### CLASIFICADOR PERCEPTRÓN MULTICAPA (MLP -> optimizador 'adam', estima los parámetros) "
   ]
  },
  {
   "cell_type": "code",
   "execution_count": 207,
   "metadata": {},
   "outputs": [],
   "source": [
    "mlp = MLPClassifier(solver = 'adam', activation = 'relu', hidden_layer_sizes = (100, 50, 30), max_iter = 1000)"
   ]
  },
  {
   "cell_type": "code",
   "execution_count": 208,
   "metadata": {},
   "outputs": [
    {
     "data": {
      "text/plain": [
       "MLPClassifier(activation='relu', alpha=0.0001, batch_size='auto', beta_1=0.9,\n",
       "              beta_2=0.999, early_stopping=False, epsilon=1e-08,\n",
       "              hidden_layer_sizes=(100, 50, 30), learning_rate='constant',\n",
       "              learning_rate_init=0.001, max_iter=1000, momentum=0.9,\n",
       "              n_iter_no_change=10, nesterovs_momentum=True, power_t=0.5,\n",
       "              random_state=None, shuffle=True, solver='adam', tol=0.0001,\n",
       "              validation_fraction=0.1, verbose=False, warm_start=False)"
      ]
     },
     "execution_count": 208,
     "metadata": {},
     "output_type": "execute_result"
    }
   ],
   "source": [
    "mlp.fit(X_train, y_train)"
   ]
  },
  {
   "cell_type": "code",
   "execution_count": 114,
   "metadata": {},
   "outputs": [
    {
     "name": "stdout",
     "output_type": "stream",
     "text": [
      "0.5\n"
     ]
    },
    {
     "name": "stderr",
     "output_type": "stream",
     "text": [
      "C:\\Users\\OSWALDO\\Anaconda3\\lib\\site-packages\\sklearn\\metrics\\classification.py:1437: UndefinedMetricWarning: Precision and F-score are ill-defined and being set to 0.0 in labels with no predicted samples.\n",
      "  'precision', 'predicted', average, warn_for)\n"
     ]
    },
    {
     "name": "stdout",
     "output_type": "stream",
     "text": [
      "              precision    recall  f1-score   support\n",
      "\n",
      "           0       0.98      1.00      0.99       429\n",
      "           1       0.00      0.00      0.00         9\n",
      "\n",
      "    accuracy                           0.98       438\n",
      "   macro avg       0.49      0.50      0.49       438\n",
      "weighted avg       0.96      0.98      0.97       438\n",
      "\n"
     ]
    }
   ],
   "source": [
    "mlp_pred = mlp.predict(X_test)\n",
    "print (roc_auc_score(y_test, mlp_pred))\n",
    "print (classification_report(y_test, mlp_pred))"
   ]
  },
  {
   "cell_type": "code",
   "execution_count": 115,
   "metadata": {},
   "outputs": [],
   "source": [
    "Model_Name.append('MLP-NN (adam)')\n",
    "Model_Score.append(round(roc_auc_score(y_test, mlp_pred), 4))"
   ]
  },
  {
   "cell_type": "markdown",
   "metadata": {},
   "source": [
    "#  COMPARATIVA DE MODELOS ML: "
   ]
  },
  {
   "cell_type": "code",
   "execution_count": 117,
   "metadata": {},
   "outputs": [
    {
     "data": {
      "image/png": "[encoded data removed]",
      "text/plain": [
       "<Figure size 1080x1080 with 1 Axes>"
      ]
     },
     "metadata": {
      "needs_background": "light"
     },
     "output_type": "display_data"
    }
   ],
   "source": [
    "plt.figure(figsize = (15, 15))\n",
    "plt.plot(Model_Name,Model_Score, marker = 'o', color = 'red')\n",
    "plt.title('Comparison of different models')\n",
    "plt.xlabel('Models')\n",
    "plt.ylabel('ROC-AUC score')\n",
    "plt.ylim(0.5, 0.7)\n",
    "plt.grid()\n",
    "plt.savefig('Model_compare.jpeg')\n",
    "plt.savefig('proyecto_bedu/Comparativa_modelos_ML.png')\n",
    "plt.show()"
   ]
  },
  {
   "cell_type": "markdown",
   "metadata": {},
   "source": [
    "### Reporte de calidad general del dataframe df1 (sin estandarización estructurada)"
   ]
  },
  {
   "cell_type": "code",
   "execution_count": 123,
   "metadata": {},
   "outputs": [
    {
     "data": {
      "text/html": [
       "<div>\n",
       "<style scoped>\n",
       "    .dataframe tbody tr th:only-of-type {\n",
       "        vertical-align: middle;\n",
       "    }\n",
       "\n",
       "    .dataframe tbody tr th {\n",
       "        vertical-align: top;\n",
       "    }\n",
       "\n",
       "    .dataframe thead th {\n",
       "        text-align: right;\n",
       "    }\n",
       "</style>\n",
       "<table border=\"1\" class=\"dataframe\">\n",
       "  <thead>\n",
       "    <tr style=\"text-align: right;\">\n",
       "      <th></th>\n",
       "      <th>Data type</th>\n",
       "      <th>missing values</th>\n",
       "      <th>present values</th>\n",
       "      <th>unique values</th>\n",
       "      <th>minimum values</th>\n",
       "      <th>maximun values</th>\n",
       "    </tr>\n",
       "  </thead>\n",
       "  <tbody>\n",
       "    <tr>\n",
       "      <td>Título</td>\n",
       "      <td>object</td>\n",
       "      <td>0</td>\n",
       "      <td>4371</td>\n",
       "      <td>3076</td>\n",
       "      <td>(Pasantía) Asistente de Comunicación / E-Marke...</td>\n",
       "      <td>Óptico (Union Square)</td>\n",
       "    </tr>\n",
       "    <tr>\n",
       "      <td>Descripción</td>\n",
       "      <td>object</td>\n",
       "      <td>0</td>\n",
       "      <td>4371</td>\n",
       "      <td>3950</td>\n",
       "      <td>\"Cuidamos mucho a nuestros CarePartners para q...</td>\n",
       "      <td>â € ¢ Responda tanto las llamadas entrantes de...</td>\n",
       "    </tr>\n",
       "    <tr>\n",
       "      <td>Teletrabajo</td>\n",
       "      <td>int32</td>\n",
       "      <td>0</td>\n",
       "      <td>4371</td>\n",
       "      <td>2</td>\n",
       "      <td>0</td>\n",
       "      <td>1</td>\n",
       "    </tr>\n",
       "    <tr>\n",
       "      <td>Logo_empresa</td>\n",
       "      <td>int32</td>\n",
       "      <td>0</td>\n",
       "      <td>4371</td>\n",
       "      <td>2</td>\n",
       "      <td>0</td>\n",
       "      <td>1</td>\n",
       "    </tr>\n",
       "    <tr>\n",
       "      <td>Preguntas</td>\n",
       "      <td>int32</td>\n",
       "      <td>0</td>\n",
       "      <td>4371</td>\n",
       "      <td>2</td>\n",
       "      <td>0</td>\n",
       "      <td>1</td>\n",
       "    </tr>\n",
       "    <tr>\n",
       "      <td>Tipo_empleo</td>\n",
       "      <td>object</td>\n",
       "      <td>0</td>\n",
       "      <td>4371</td>\n",
       "      <td>5</td>\n",
       "      <td>Contrato</td>\n",
       "      <td>Tiempo completo</td>\n",
       "    </tr>\n",
       "    <tr>\n",
       "      <td>Experiencia</td>\n",
       "      <td>object</td>\n",
       "      <td>0</td>\n",
       "      <td>4371</td>\n",
       "      <td>7</td>\n",
       "      <td>Asociar</td>\n",
       "      <td>No aplica</td>\n",
       "    </tr>\n",
       "    <tr>\n",
       "      <td>Educación</td>\n",
       "      <td>object</td>\n",
       "      <td>0</td>\n",
       "      <td>4371</td>\n",
       "      <td>12</td>\n",
       "      <td>Algunos cursos de secundaria</td>\n",
       "      <td>Vocacional - Diploma HS</td>\n",
       "    </tr>\n",
       "    <tr>\n",
       "      <td>Sector</td>\n",
       "      <td>object</td>\n",
       "      <td>0</td>\n",
       "      <td>4371</td>\n",
       "      <td>119</td>\n",
       "      <td>Administración de educación</td>\n",
       "      <td>relaciones Gubernamentales</td>\n",
       "    </tr>\n",
       "    <tr>\n",
       "      <td>Funciones</td>\n",
       "      <td>object</td>\n",
       "      <td>0</td>\n",
       "      <td>4371</td>\n",
       "      <td>37</td>\n",
       "      <td>Administrativo</td>\n",
       "      <td>administración</td>\n",
       "    </tr>\n",
       "    <tr>\n",
       "      <td>fraudulento</td>\n",
       "      <td>int32</td>\n",
       "      <td>0</td>\n",
       "      <td>4371</td>\n",
       "      <td>2</td>\n",
       "      <td>0</td>\n",
       "      <td>1</td>\n",
       "    </tr>\n",
       "    <tr>\n",
       "      <td>FV</td>\n",
       "      <td>object</td>\n",
       "      <td>0</td>\n",
       "      <td>4371</td>\n",
       "      <td>2</td>\n",
       "      <td>Es_Falso</td>\n",
       "      <td>Es_Real</td>\n",
       "    </tr>\n",
       "    <tr>\n",
       "      <td>Ciudad</td>\n",
       "      <td>object</td>\n",
       "      <td>0</td>\n",
       "      <td>4371</td>\n",
       "      <td>69</td>\n",
       "      <td>Aguascalientes Aguascalientes</td>\n",
       "      <td>Álvaro Obregón CDMX</td>\n",
       "    </tr>\n",
       "    <tr>\n",
       "      <td>Estado</td>\n",
       "      <td>object</td>\n",
       "      <td>0</td>\n",
       "      <td>4371</td>\n",
       "      <td>12</td>\n",
       "      <td>Aguascalientes</td>\n",
       "      <td>Tamaulipas</td>\n",
       "    </tr>\n",
       "    <tr>\n",
       "      <td>latitud</td>\n",
       "      <td>float64</td>\n",
       "      <td>0</td>\n",
       "      <td>4371</td>\n",
       "      <td>69</td>\n",
       "      <td>18.6783</td>\n",
       "      <td>32.6245</td>\n",
       "    </tr>\n",
       "    <tr>\n",
       "      <td>longitud</td>\n",
       "      <td>float64</td>\n",
       "      <td>0</td>\n",
       "      <td>4371</td>\n",
       "      <td>69</td>\n",
       "      <td>-117.038</td>\n",
       "      <td>-86.7341</td>\n",
       "    </tr>\n",
       "  </tbody>\n",
       "</table>\n",
       "</div>"
      ],
      "text/plain": [
       "             Data type  missing values  present values unique values  \\\n",
       "Título          object               0            4371          3076   \n",
       "Descripción     object               0            4371          3950   \n",
       "Teletrabajo      int32               0            4371             2   \n",
       "Logo_empresa     int32               0            4371             2   \n",
       "Preguntas        int32               0            4371             2   \n",
       "Tipo_empleo     object               0            4371             5   \n",
       "Experiencia     object               0            4371             7   \n",
       "Educación       object               0            4371            12   \n",
       "Sector          object               0            4371           119   \n",
       "Funciones       object               0            4371            37   \n",
       "fraudulento      int32               0            4371             2   \n",
       "FV              object               0            4371             2   \n",
       "Ciudad          object               0            4371            69   \n",
       "Estado          object               0            4371            12   \n",
       "latitud        float64               0            4371            69   \n",
       "longitud       float64               0            4371            69   \n",
       "\n",
       "                                                 minimum values  \\\n",
       "Título        (Pasantía) Asistente de Comunicación / E-Marke...   \n",
       "Descripción   \"Cuidamos mucho a nuestros CarePartners para q...   \n",
       "Teletrabajo                                                   0   \n",
       "Logo_empresa                                                  0   \n",
       "Preguntas                                                     0   \n",
       "Tipo_empleo                                            Contrato   \n",
       "Experiencia                                             Asociar   \n",
       "Educación                          Algunos cursos de secundaria   \n",
       "Sector                              Administración de educación   \n",
       "Funciones                                        Administrativo   \n",
       "fraudulento                                                   0   \n",
       "FV                                                     Es_Falso   \n",
       "Ciudad                            Aguascalientes Aguascalientes   \n",
       "Estado                                           Aguascalientes   \n",
       "latitud                                                 18.6783   \n",
       "longitud                                               -117.038   \n",
       "\n",
       "                                                 maximun values  \n",
       "Título                                    Óptico (Union Square)  \n",
       "Descripción   â € ¢ Responda tanto las llamadas entrantes de...  \n",
       "Teletrabajo                                                   1  \n",
       "Logo_empresa                                                  1  \n",
       "Preguntas                                                     1  \n",
       "Tipo_empleo                                     Tiempo completo  \n",
       "Experiencia                                           No aplica  \n",
       "Educación                               Vocacional - Diploma HS  \n",
       "Sector                               relaciones Gubernamentales  \n",
       "Funciones                                        administración  \n",
       "fraudulento                                                   1  \n",
       "FV                                                      Es_Real  \n",
       "Ciudad                                      Álvaro Obregón CDMX  \n",
       "Estado                                               Tamaulipas  \n",
       "latitud                                                 32.6245  \n",
       "longitud                                               -86.7341  "
      ]
     },
     "execution_count": 123,
     "metadata": {},
     "output_type": "execute_result"
    }
   ],
   "source": [
    "def quality_report(df1):\n",
    "\n",
    "    \"\"\"This method will do a basic data quality report for a data frame\"\"\"\n",
    "        \n",
    "    if (type(df1) != pd.core.frame.DataFrame):\n",
    "        raise TypeError(\"Data must be pandas.core.frame.DataFrame\")\n",
    "    else: \n",
    "        columns = list(df1.columns.values)\n",
    "        data_type = pd.DataFrame(df1.dtypes, columns=['Data type'])\n",
    "        missing_data = pd.DataFrame(\n",
    "        df1.isnull().sum(), columns=['missing values'])\n",
    "        present_data = pd.DataFrame(df1.count(), columns=['present values'])\n",
    "        unique_values = pd.DataFrame(columns=['unique values'])\n",
    "        minimum_values = pd.DataFrame(columns=['minimum values'])\n",
    "        max_values = pd.DataFrame(columns=['maximun values'])\n",
    "        \n",
    "        for i in columns:\n",
    "            unique_values.loc[i] = [df1[i].nunique()]\n",
    "            try:\n",
    "                minimum_values.loc[i] = [df1[i].min()]\n",
    "                max_values.loc[i] = [df1[i].max()]\n",
    "            except:\n",
    "                pass\n",
    "        \n",
    "        DQ_report = data_type.join(missing_data).join(present_data).join(\n",
    "        unique_values).join(minimum_values).join(max_values)\n",
    "    \n",
    "    return DQ_report\n",
    "quality_report(df1)"
   ]
  },
  {
   "cell_type": "markdown",
   "metadata": {},
   "source": [
    "### Reporte de calidad general del dataframe df_vectorizado (estructurado a NLP)"
   ]
  },
  {
   "cell_type": "code",
   "execution_count": 120,
   "metadata": {},
   "outputs": [
    {
     "data": {
      "text/html": [
       "<div>\n",
       "<style scoped>\n",
       "    .dataframe tbody tr th:only-of-type {\n",
       "        vertical-align: middle;\n",
       "    }\n",
       "\n",
       "    .dataframe tbody tr th {\n",
       "        vertical-align: top;\n",
       "    }\n",
       "\n",
       "    .dataframe thead th {\n",
       "        text-align: right;\n",
       "    }\n",
       "</style>\n",
       "<table border=\"1\" class=\"dataframe\">\n",
       "  <thead>\n",
       "    <tr style=\"text-align: right;\">\n",
       "      <th></th>\n",
       "      <th>Data type</th>\n",
       "      <th>missing values</th>\n",
       "      <th>present values</th>\n",
       "      <th>unique values</th>\n",
       "      <th>minimum values</th>\n",
       "      <th>maximun values</th>\n",
       "    </tr>\n",
       "  </thead>\n",
       "  <tbody>\n",
       "    <tr>\n",
       "      <td></td>\n",
       "      <td>int64</td>\n",
       "      <td>0</td>\n",
       "      <td>4371</td>\n",
       "      <td>44</td>\n",
       "      <td>0</td>\n",
       "      <td>52</td>\n",
       "    </tr>\n",
       "    <tr>\n",
       "      <td>Administración de educación</td>\n",
       "      <td>uint8</td>\n",
       "      <td>0</td>\n",
       "      <td>4371</td>\n",
       "      <td>2</td>\n",
       "      <td>0</td>\n",
       "      <td>1</td>\n",
       "    </tr>\n",
       "    <tr>\n",
       "      <td>Administración gubernamental</td>\n",
       "      <td>uint8</td>\n",
       "      <td>0</td>\n",
       "      <td>4371</td>\n",
       "      <td>2</td>\n",
       "      <td>0</td>\n",
       "      <td>1</td>\n",
       "    </tr>\n",
       "    <tr>\n",
       "      <td>Administrativo</td>\n",
       "      <td>uint8</td>\n",
       "      <td>0</td>\n",
       "      <td>4371</td>\n",
       "      <td>2</td>\n",
       "      <td>0</td>\n",
       "      <td>1</td>\n",
       "    </tr>\n",
       "    <tr>\n",
       "      <td>Adquisitivo</td>\n",
       "      <td>uint8</td>\n",
       "      <td>0</td>\n",
       "      <td>4371</td>\n",
       "      <td>2</td>\n",
       "      <td>0</td>\n",
       "      <td>1</td>\n",
       "    </tr>\n",
       "    <tr>\n",
       "      <td>...</td>\n",
       "      <td>...</td>\n",
       "      <td>...</td>\n",
       "      <td>...</td>\n",
       "      <td>...</td>\n",
       "      <td>...</td>\n",
       "      <td>...</td>\n",
       "    </tr>\n",
       "    <tr>\n",
       "      <td>habilidades</td>\n",
       "      <td>int64</td>\n",
       "      <td>0</td>\n",
       "      <td>4371</td>\n",
       "      <td>11</td>\n",
       "      <td>0</td>\n",
       "      <td>10</td>\n",
       "    </tr>\n",
       "    <tr>\n",
       "      <td>latitud</td>\n",
       "      <td>float64</td>\n",
       "      <td>0</td>\n",
       "      <td>4371</td>\n",
       "      <td>69</td>\n",
       "      <td>18.6783</td>\n",
       "      <td>32.6245</td>\n",
       "    </tr>\n",
       "    <tr>\n",
       "      <td>longitud</td>\n",
       "      <td>float64</td>\n",
       "      <td>0</td>\n",
       "      <td>4371</td>\n",
       "      <td>69</td>\n",
       "      <td>-117.038</td>\n",
       "      <td>-86.7341</td>\n",
       "    </tr>\n",
       "    <tr>\n",
       "      <td>relaciones Gubernamentales</td>\n",
       "      <td>uint8</td>\n",
       "      <td>0</td>\n",
       "      <td>4371</td>\n",
       "      <td>2</td>\n",
       "      <td>0</td>\n",
       "      <td>1</td>\n",
       "    </tr>\n",
       "    <tr>\n",
       "      <td>trabajo</td>\n",
       "      <td>int64</td>\n",
       "      <td>0</td>\n",
       "      <td>4371</td>\n",
       "      <td>18</td>\n",
       "      <td>0</td>\n",
       "      <td>18</td>\n",
       "    </tr>\n",
       "  </tbody>\n",
       "</table>\n",
       "<p>217 rows × 6 columns</p>\n",
       "</div>"
      ],
      "text/plain": [
       "                             Data type  missing values  present values  \\\n",
       "                                 int64               0            4371   \n",
       "Administración de educación      uint8               0            4371   \n",
       "Administración gubernamental     uint8               0            4371   \n",
       "Administrativo                   uint8               0            4371   \n",
       "Adquisitivo                      uint8               0            4371   \n",
       "...                                ...             ...             ...   \n",
       "habilidades                      int64               0            4371   \n",
       "latitud                        float64               0            4371   \n",
       "longitud                       float64               0            4371   \n",
       "relaciones Gubernamentales       uint8               0            4371   \n",
       "trabajo                          int64               0            4371   \n",
       "\n",
       "                             unique values minimum values maximun values  \n",
       "                                        44              0             52  \n",
       "Administración de educación              2              0              1  \n",
       "Administración gubernamental             2              0              1  \n",
       "Administrativo                           2              0              1  \n",
       "Adquisitivo                              2              0              1  \n",
       "...                                    ...            ...            ...  \n",
       "habilidades                             11              0             10  \n",
       "latitud                                 69        18.6783        32.6245  \n",
       "longitud                                69       -117.038       -86.7341  \n",
       "relaciones Gubernamentales               2              0              1  \n",
       "trabajo                                 18              0             18  \n",
       "\n",
       "[217 rows x 6 columns]"
      ]
     },
     "execution_count": 120,
     "metadata": {},
     "output_type": "execute_result"
    }
   ],
   "source": [
    "def quality_report(df_vectorizado):\n",
    "\n",
    "    \"\"\"This method will do a basic data quality report for a data frame\"\"\"\n",
    "        \n",
    "    if (type(df_vectorizado) != pd.core.frame.DataFrame):\n",
    "        raise TypeError(\"Data must be pandas.core.frame.DataFrame\")\n",
    "    else: \n",
    "        columns = list(df_vectorizado.columns.values)\n",
    "        data_type = pd.DataFrame(df_vectorizado.dtypes, columns=['Data type'])\n",
    "        missing_data = pd.DataFrame(\n",
    "        df_vectorizado.isnull().sum(), columns=['missing values'])\n",
    "        present_data = pd.DataFrame(df_vectorizado.count(), columns=['present values'])\n",
    "        unique_values = pd.DataFrame(columns=['unique values'])\n",
    "        minimum_values = pd.DataFrame(columns=['minimum values'])\n",
    "        max_values = pd.DataFrame(columns=['maximun values'])\n",
    "        \n",
    "        for i in columns:\n",
    "            unique_values.loc[i] = [df_vectorizado[i].nunique()]\n",
    "            try:\n",
    "                minimum_values.loc[i] = [df_vectorizado[i].min()]\n",
    "                max_values.loc[i] = [df_vectorizado[i].max()]\n",
    "            except:\n",
    "                pass\n",
    "        \n",
    "        DQ_report = data_type.join(missing_data).join(present_data).join(\n",
    "        unique_values).join(minimum_values).join(max_values)\n",
    "    \n",
    "    return DQ_report\n",
    "quality_report(df_vectorizado)"
   ]
  },
  {
   "cell_type": "markdown",
   "metadata": {},
   "source": [
    "<div class=\"alert alert-block alert-info\">\n",
    "<b>Comentarios finales:</b> En este notebook se utilizó un dataset previamente manejado con técnicas de ETL para modelarlo y explorar el conjunto de datos colectados en un dataset de empleos en México. Posteriormente, se implementaron métodos de filtrado y enriquecimiento agregando valores como longitud y latitud con el uso de Google Maps API con el fin de arrojar el reporte de visual de la exploración y análisis de datos.\n",
    "    En un segundo dataset se implementó una técnica de conversión de datos para estandarizar los valores a estructurados para las librerías de Procesamiento de Lenguaje Natural (NLP). \n",
    "    Se prosiguió con la comparación de los resultados de cada modelo implementado. \n",
    "</div>"
   ]
  }
 ],
 "metadata": {
  "kernelspec": {
   "display_name": "bedu",
   "language": "python",
   "name": "bedu"
  },
  "language_info": {
   "codemirror_mode": {
    "name": "ipython",
    "version": 3
   },
   "file_extension": ".py",
   "mimetype": "text/x-python",
   "name": "python",
   "nbconvert_exporter": "python",
   "pygments_lexer": "ipython3",
   "version": "3.7.4"
  }
 },
 "nbformat": 4,
 "nbformat_minor": 2
}
